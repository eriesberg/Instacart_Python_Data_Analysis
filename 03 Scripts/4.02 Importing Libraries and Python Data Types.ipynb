{
 "cells": [
  {
   "cell_type": "markdown",
   "id": "d83c8a45",
   "metadata": {},
   "source": [
    "# 01. Importing Libraries "
   ]
  },
  {
   "cell_type": "code",
   "execution_count": 1,
   "id": "752cbd4c",
   "metadata": {},
   "outputs": [],
   "source": [
    "# Import Libraries\n",
    "import pandas as pd\n",
    "import numpy as np\n",
    "import os"
   ]
  },
  {
   "cell_type": "markdown",
   "id": "0113604d",
   "metadata": {},
   "source": [
    "# 02. Data types"
   ]
  },
  {
   "cell_type": "code",
   "execution_count": 2,
   "id": "5b44c8cd",
   "metadata": {},
   "outputs": [],
   "source": [
    "a = 52 + 48\n",
    "b = 37 + 63\n",
    "c = 127 - 27"
   ]
  },
  {
   "cell_type": "code",
   "execution_count": 3,
   "id": "d019b369",
   "metadata": {},
   "outputs": [
    {
     "name": "stdout",
     "output_type": "stream",
     "text": [
      "100 100 100\n"
     ]
    }
   ],
   "source": [
    "print(a,b,c)"
   ]
  },
  {
   "cell_type": "code",
   "execution_count": 4,
   "id": "18a23bf9",
   "metadata": {},
   "outputs": [],
   "source": [
    "d = 61.528\n",
    "e = 25.1859"
   ]
  },
  {
   "cell_type": "code",
   "execution_count": 5,
   "id": "a90786c9",
   "metadata": {},
   "outputs": [
    {
     "data": {
      "text/plain": [
       "2.4429541926236507"
      ]
     },
     "execution_count": 5,
     "metadata": {},
     "output_type": "execute_result"
    }
   ],
   "source": [
    "d/e"
   ]
  },
  {
   "cell_type": "code",
   "execution_count": 6,
   "id": "9236f7f0",
   "metadata": {},
   "outputs": [],
   "source": [
    "f = 'Hel'\n",
    "g = 'lo'"
   ]
  },
  {
   "cell_type": "code",
   "execution_count": 7,
   "id": "11703e80",
   "metadata": {},
   "outputs": [
    {
     "data": {
      "text/plain": [
       "'Hello'"
      ]
     },
     "execution_count": 7,
     "metadata": {},
     "output_type": "execute_result"
    }
   ],
   "source": [
    "f+g"
   ]
  },
  {
   "cell_type": "code",
   "execution_count": 8,
   "id": "a28454e9",
   "metadata": {},
   "outputs": [],
   "source": [
    "h= 'One time, there was a man walking through the forest. '\n",
    "i = 'He saw a bear, and decided to run away.'"
   ]
  },
  {
   "cell_type": "code",
   "execution_count": 9,
   "id": "3a660d27",
   "metadata": {},
   "outputs": [
    {
     "data": {
      "text/plain": [
       "'One time, there was a man walking through the forest. He saw a bear, and decided to run away.'"
      ]
     },
     "execution_count": 9,
     "metadata": {},
     "output_type": "execute_result"
    }
   ],
   "source": [
    "h+i"
   ]
  },
  {
   "cell_type": "code",
   "execution_count": 10,
   "id": "4a7a00bd",
   "metadata": {},
   "outputs": [
    {
     "name": "stdout",
     "output_type": "stream",
     "text": [
      "0 Hello\n",
      "1 Hello\n",
      "2 Hello\n",
      "3 Hello\n",
      "4 Hello\n",
      "5 Hello\n",
      "6 Hello\n",
      "7 Hello\n",
      "8 Hello\n",
      "9 Hello\n",
      "10 Hello\n",
      "11 Hello\n",
      "12 Hello\n",
      "13 Hello\n",
      "14 Hello\n",
      "15 Hello\n",
      "16 Hello\n",
      "17 Hello\n",
      "18 Hello\n",
      "19 Hello\n",
      "20 Hello\n",
      "21 Hello\n",
      "22 Hello\n",
      "23 Hello\n",
      "24 Hello\n",
      "25 Hello\n",
      "26 Hello\n",
      "27 Hello\n",
      "28 Hello\n",
      "29 Hello\n",
      "30 Hello\n",
      "31 Hello\n",
      "32 Hello\n",
      "33 Hello\n",
      "34 Hello\n",
      "35 Hello\n",
      "36 Hello\n",
      "37 Hello\n",
      "38 Hello\n",
      "39 Hello\n",
      "40 Hello\n",
      "41 Hello\n",
      "42 Hello\n",
      "43 Hello\n",
      "44 Hello\n",
      "45 Hello\n",
      "46 Hello\n",
      "47 Hello\n",
      "48 Hello\n",
      "49 Hello\n",
      "50 Hello\n",
      "51 Hello\n",
      "52 Hello\n",
      "53 Hello\n",
      "54 Hello\n",
      "55 Hello\n",
      "56 Hello\n",
      "57 Hello\n",
      "58 Hello\n",
      "59 Hello\n",
      "60 Hello\n",
      "61 Hello\n",
      "62 Hello\n",
      "63 Hello\n",
      "64 Hello\n",
      "65 Hello\n",
      "66 Hello\n",
      "67 Hello\n",
      "68 Hello\n",
      "69 Hello\n",
      "70 Hello\n",
      "71 Hello\n",
      "72 Hello\n",
      "73 Hello\n",
      "74 Hello\n",
      "75 Hello\n",
      "76 Hello\n",
      "77 Hello\n",
      "78 Hello\n",
      "79 Hello\n",
      "80 Hello\n",
      "81 Hello\n",
      "82 Hello\n",
      "83 Hello\n",
      "84 Hello\n",
      "85 Hello\n",
      "86 Hello\n",
      "87 Hello\n",
      "88 Hello\n",
      "89 Hello\n",
      "90 Hello\n",
      "91 Hello\n",
      "92 Hello\n",
      "93 Hello\n",
      "94 Hello\n",
      "95 Hello\n",
      "96 Hello\n",
      "97 Hello\n",
      "98 Hello\n",
      "99 Hello\n"
     ]
    }
   ],
   "source": [
    "for x in range(100):\n",
    "    print(x,f+g)"
   ]
  },
  {
   "cell_type": "code",
   "execution_count": null,
   "id": "76c48a80",
   "metadata": {},
   "outputs": [],
   "source": []
  }
 ],
 "metadata": {
  "kernelspec": {
   "display_name": "Python 3",
   "language": "python",
   "name": "python3"
  },
  "language_info": {
   "codemirror_mode": {
    "name": "ipython",
    "version": 3
   },
   "file_extension": ".py",
   "mimetype": "text/x-python",
   "name": "python",
   "nbconvert_exporter": "python",
   "pygments_lexer": "ipython3",
   "version": "3.8.8"
  }
 },
 "nbformat": 4,
 "nbformat_minor": 5
}
