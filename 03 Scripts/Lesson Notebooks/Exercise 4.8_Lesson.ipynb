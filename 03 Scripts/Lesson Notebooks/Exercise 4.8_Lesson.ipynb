{
 "cells": [
  {
   "cell_type": "markdown",
   "id": "07d50310",
   "metadata": {},
   "source": [
    "# 01. Import Libraries"
   ]
  },
  {
   "cell_type": "code",
   "execution_count": 1,
   "id": "646e50d5",
   "metadata": {},
   "outputs": [],
   "source": [
    "#import libraries\n",
    "import pandas as pd\n",
    "import numpy as np\n",
    "import os"
   ]
  },
  {
   "cell_type": "markdown",
   "id": "08842297",
   "metadata": {},
   "source": [
    "# 02. Import Data"
   ]
  },
  {
   "cell_type": "code",
   "execution_count": 2,
   "id": "4ff0d417",
   "metadata": {},
   "outputs": [],
   "source": [
    "path = r\"C:\\Users\\Eric\\Google Drive\\Instacart Basket Analysis\""
   ]
  },
  {
   "cell_type": "code",
   "execution_count": 3,
   "id": "0e749156",
   "metadata": {},
   "outputs": [],
   "source": [
    "ords_prods_merge = pd.read_pickle(os.path.join(path,'02 Data','Prepared Data','orders_products_merged.pkl'))"
   ]
  },
  {
   "cell_type": "code",
   "execution_count": 4,
   "id": "d9c018ce",
   "metadata": {},
   "outputs": [],
   "source": [
    "df = ords_prods_merge[:1000000]"
   ]
  }
 ],
 "metadata": {
  "kernelspec": {
   "display_name": "Python 3",
   "language": "python",
   "name": "python3"
  },
  "language_info": {
   "codemirror_mode": {
    "name": "ipython",
    "version": 3
   },
   "file_extension": ".py",
   "mimetype": "text/x-python",
   "name": "python",
   "nbconvert_exporter": "python",
   "pygments_lexer": "ipython3",
   "version": "3.8.8"
  }
 },
 "nbformat": 4,
 "nbformat_minor": 5
}
