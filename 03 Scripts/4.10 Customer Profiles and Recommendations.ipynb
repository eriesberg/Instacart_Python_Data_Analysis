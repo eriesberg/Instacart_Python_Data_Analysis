{
 "cells": [
  {
   "cell_type": "markdown",
   "id": "894a9c90",
   "metadata": {},
   "source": [
    "# Import Libraries"
   ]
  },
  {
   "cell_type": "code",
   "execution_count": 1,
   "id": "982d8104",
   "metadata": {},
   "outputs": [],
   "source": [
    "import pandas as pd\n",
    "import numpy as np\n",
    "import os\n",
    "import matplotlib.pyplot as plt\n",
    "import seaborn as sns\n",
    "import squarify"
   ]
  },
  {
   "cell_type": "markdown",
   "id": "bca06426",
   "metadata": {},
   "source": [
    "# Import Data"
   ]
  },
  {
   "cell_type": "markdown",
   "id": "9e7c9919",
   "metadata": {},
   "source": [
    "## Question 1.\n",
    "Import the data set you exported in Exercise 4.9 into a new Jupyter notebook. This should be the merged version of your data that contains the new customers column."
   ]
  },
  {
   "cell_type": "code",
   "execution_count": 2,
   "id": "546dc39b",
   "metadata": {},
   "outputs": [],
   "source": [
    "path = r\"C:\\Users\\edriesberg\\Google Drive\\Instacart Basket Analysis\""
   ]
  },
  {
   "cell_type": "code",
   "execution_count": 3,
   "id": "7730dba9",
   "metadata": {},
   "outputs": [],
   "source": [
    "df = pd.read_pickle(os.path.join(path,'02 Data','Prepared Data','ords_prods_cust.pkl'))"
   ]
  },
  {
   "cell_type": "code",
   "execution_count": 4,
   "id": "e463f316",
   "metadata": {
    "scrolled": true
   },
   "outputs": [
    {
     "data": {
      "text/html": [
       "<div>\n",
       "<style scoped>\n",
       "    .dataframe tbody tr th:only-of-type {\n",
       "        vertical-align: middle;\n",
       "    }\n",
       "\n",
       "    .dataframe tbody tr th {\n",
       "        vertical-align: top;\n",
       "    }\n",
       "\n",
       "    .dataframe thead th {\n",
       "        text-align: right;\n",
       "    }\n",
       "</style>\n",
       "<table border=\"1\" class=\"dataframe\">\n",
       "  <thead>\n",
       "    <tr style=\"text-align: right;\">\n",
       "      <th></th>\n",
       "      <th>order_id</th>\n",
       "      <th>user_id</th>\n",
       "      <th>user_order_number</th>\n",
       "      <th>orders_day_of_week</th>\n",
       "      <th>order_hour_of_day</th>\n",
       "      <th>days_since_prior_order</th>\n",
       "      <th>product_id</th>\n",
       "      <th>add_to_cart_order</th>\n",
       "      <th>reordered</th>\n",
       "      <th>product_name</th>\n",
       "      <th>...</th>\n",
       "      <th>order_freq</th>\n",
       "      <th>order_freq_flag</th>\n",
       "      <th>gender</th>\n",
       "      <th>state</th>\n",
       "      <th>age</th>\n",
       "      <th>date_joined</th>\n",
       "      <th>n_dependants</th>\n",
       "      <th>fam_status</th>\n",
       "      <th>income</th>\n",
       "      <th>_merge</th>\n",
       "    </tr>\n",
       "  </thead>\n",
       "  <tbody>\n",
       "    <tr>\n",
       "      <th>0</th>\n",
       "      <td>2539329</td>\n",
       "      <td>1</td>\n",
       "      <td>1</td>\n",
       "      <td>2</td>\n",
       "      <td>8</td>\n",
       "      <td>0.0</td>\n",
       "      <td>196</td>\n",
       "      <td>1</td>\n",
       "      <td>0</td>\n",
       "      <td>Soda</td>\n",
       "      <td>...</td>\n",
       "      <td>20.0</td>\n",
       "      <td>Regular customer</td>\n",
       "      <td>Female</td>\n",
       "      <td>Alabama</td>\n",
       "      <td>31</td>\n",
       "      <td>2/17/2019</td>\n",
       "      <td>3</td>\n",
       "      <td>married</td>\n",
       "      <td>40423</td>\n",
       "      <td>both</td>\n",
       "    </tr>\n",
       "    <tr>\n",
       "      <th>1</th>\n",
       "      <td>2398795</td>\n",
       "      <td>1</td>\n",
       "      <td>2</td>\n",
       "      <td>3</td>\n",
       "      <td>7</td>\n",
       "      <td>15.0</td>\n",
       "      <td>196</td>\n",
       "      <td>1</td>\n",
       "      <td>1</td>\n",
       "      <td>Soda</td>\n",
       "      <td>...</td>\n",
       "      <td>20.0</td>\n",
       "      <td>Regular customer</td>\n",
       "      <td>Female</td>\n",
       "      <td>Alabama</td>\n",
       "      <td>31</td>\n",
       "      <td>2/17/2019</td>\n",
       "      <td>3</td>\n",
       "      <td>married</td>\n",
       "      <td>40423</td>\n",
       "      <td>both</td>\n",
       "    </tr>\n",
       "    <tr>\n",
       "      <th>2</th>\n",
       "      <td>473747</td>\n",
       "      <td>1</td>\n",
       "      <td>3</td>\n",
       "      <td>3</td>\n",
       "      <td>12</td>\n",
       "      <td>21.0</td>\n",
       "      <td>196</td>\n",
       "      <td>1</td>\n",
       "      <td>1</td>\n",
       "      <td>Soda</td>\n",
       "      <td>...</td>\n",
       "      <td>20.0</td>\n",
       "      <td>Regular customer</td>\n",
       "      <td>Female</td>\n",
       "      <td>Alabama</td>\n",
       "      <td>31</td>\n",
       "      <td>2/17/2019</td>\n",
       "      <td>3</td>\n",
       "      <td>married</td>\n",
       "      <td>40423</td>\n",
       "      <td>both</td>\n",
       "    </tr>\n",
       "    <tr>\n",
       "      <th>3</th>\n",
       "      <td>2254736</td>\n",
       "      <td>1</td>\n",
       "      <td>4</td>\n",
       "      <td>4</td>\n",
       "      <td>7</td>\n",
       "      <td>29.0</td>\n",
       "      <td>196</td>\n",
       "      <td>1</td>\n",
       "      <td>1</td>\n",
       "      <td>Soda</td>\n",
       "      <td>...</td>\n",
       "      <td>20.0</td>\n",
       "      <td>Regular customer</td>\n",
       "      <td>Female</td>\n",
       "      <td>Alabama</td>\n",
       "      <td>31</td>\n",
       "      <td>2/17/2019</td>\n",
       "      <td>3</td>\n",
       "      <td>married</td>\n",
       "      <td>40423</td>\n",
       "      <td>both</td>\n",
       "    </tr>\n",
       "    <tr>\n",
       "      <th>4</th>\n",
       "      <td>431534</td>\n",
       "      <td>1</td>\n",
       "      <td>5</td>\n",
       "      <td>4</td>\n",
       "      <td>15</td>\n",
       "      <td>28.0</td>\n",
       "      <td>196</td>\n",
       "      <td>1</td>\n",
       "      <td>1</td>\n",
       "      <td>Soda</td>\n",
       "      <td>...</td>\n",
       "      <td>20.0</td>\n",
       "      <td>Regular customer</td>\n",
       "      <td>Female</td>\n",
       "      <td>Alabama</td>\n",
       "      <td>31</td>\n",
       "      <td>2/17/2019</td>\n",
       "      <td>3</td>\n",
       "      <td>married</td>\n",
       "      <td>40423</td>\n",
       "      <td>both</td>\n",
       "    </tr>\n",
       "    <tr>\n",
       "      <th>5</th>\n",
       "      <td>3367565</td>\n",
       "      <td>1</td>\n",
       "      <td>6</td>\n",
       "      <td>2</td>\n",
       "      <td>7</td>\n",
       "      <td>19.0</td>\n",
       "      <td>196</td>\n",
       "      <td>1</td>\n",
       "      <td>1</td>\n",
       "      <td>Soda</td>\n",
       "      <td>...</td>\n",
       "      <td>20.0</td>\n",
       "      <td>Regular customer</td>\n",
       "      <td>Female</td>\n",
       "      <td>Alabama</td>\n",
       "      <td>31</td>\n",
       "      <td>2/17/2019</td>\n",
       "      <td>3</td>\n",
       "      <td>married</td>\n",
       "      <td>40423</td>\n",
       "      <td>both</td>\n",
       "    </tr>\n",
       "    <tr>\n",
       "      <th>6</th>\n",
       "      <td>550135</td>\n",
       "      <td>1</td>\n",
       "      <td>7</td>\n",
       "      <td>1</td>\n",
       "      <td>9</td>\n",
       "      <td>20.0</td>\n",
       "      <td>196</td>\n",
       "      <td>1</td>\n",
       "      <td>1</td>\n",
       "      <td>Soda</td>\n",
       "      <td>...</td>\n",
       "      <td>20.0</td>\n",
       "      <td>Regular customer</td>\n",
       "      <td>Female</td>\n",
       "      <td>Alabama</td>\n",
       "      <td>31</td>\n",
       "      <td>2/17/2019</td>\n",
       "      <td>3</td>\n",
       "      <td>married</td>\n",
       "      <td>40423</td>\n",
       "      <td>both</td>\n",
       "    </tr>\n",
       "    <tr>\n",
       "      <th>7</th>\n",
       "      <td>3108588</td>\n",
       "      <td>1</td>\n",
       "      <td>8</td>\n",
       "      <td>1</td>\n",
       "      <td>14</td>\n",
       "      <td>14.0</td>\n",
       "      <td>196</td>\n",
       "      <td>2</td>\n",
       "      <td>1</td>\n",
       "      <td>Soda</td>\n",
       "      <td>...</td>\n",
       "      <td>20.0</td>\n",
       "      <td>Regular customer</td>\n",
       "      <td>Female</td>\n",
       "      <td>Alabama</td>\n",
       "      <td>31</td>\n",
       "      <td>2/17/2019</td>\n",
       "      <td>3</td>\n",
       "      <td>married</td>\n",
       "      <td>40423</td>\n",
       "      <td>both</td>\n",
       "    </tr>\n",
       "    <tr>\n",
       "      <th>8</th>\n",
       "      <td>2295261</td>\n",
       "      <td>1</td>\n",
       "      <td>9</td>\n",
       "      <td>1</td>\n",
       "      <td>16</td>\n",
       "      <td>0.0</td>\n",
       "      <td>196</td>\n",
       "      <td>4</td>\n",
       "      <td>1</td>\n",
       "      <td>Soda</td>\n",
       "      <td>...</td>\n",
       "      <td>20.0</td>\n",
       "      <td>Regular customer</td>\n",
       "      <td>Female</td>\n",
       "      <td>Alabama</td>\n",
       "      <td>31</td>\n",
       "      <td>2/17/2019</td>\n",
       "      <td>3</td>\n",
       "      <td>married</td>\n",
       "      <td>40423</td>\n",
       "      <td>both</td>\n",
       "    </tr>\n",
       "    <tr>\n",
       "      <th>9</th>\n",
       "      <td>2550362</td>\n",
       "      <td>1</td>\n",
       "      <td>10</td>\n",
       "      <td>4</td>\n",
       "      <td>8</td>\n",
       "      <td>30.0</td>\n",
       "      <td>196</td>\n",
       "      <td>1</td>\n",
       "      <td>1</td>\n",
       "      <td>Soda</td>\n",
       "      <td>...</td>\n",
       "      <td>20.0</td>\n",
       "      <td>Regular customer</td>\n",
       "      <td>Female</td>\n",
       "      <td>Alabama</td>\n",
       "      <td>31</td>\n",
       "      <td>2/17/2019</td>\n",
       "      <td>3</td>\n",
       "      <td>married</td>\n",
       "      <td>40423</td>\n",
       "      <td>both</td>\n",
       "    </tr>\n",
       "    <tr>\n",
       "      <th>10</th>\n",
       "      <td>2968173</td>\n",
       "      <td>15</td>\n",
       "      <td>15</td>\n",
       "      <td>1</td>\n",
       "      <td>9</td>\n",
       "      <td>7.0</td>\n",
       "      <td>196</td>\n",
       "      <td>2</td>\n",
       "      <td>0</td>\n",
       "      <td>Soda</td>\n",
       "      <td>...</td>\n",
       "      <td>8.0</td>\n",
       "      <td>Frequent customer</td>\n",
       "      <td>Female</td>\n",
       "      <td>Indiana</td>\n",
       "      <td>69</td>\n",
       "      <td>6/3/2019</td>\n",
       "      <td>0</td>\n",
       "      <td>divorced/widowed</td>\n",
       "      <td>54313</td>\n",
       "      <td>both</td>\n",
       "    </tr>\n",
       "    <tr>\n",
       "      <th>11</th>\n",
       "      <td>1870022</td>\n",
       "      <td>15</td>\n",
       "      <td>17</td>\n",
       "      <td>2</td>\n",
       "      <td>16</td>\n",
       "      <td>8.0</td>\n",
       "      <td>196</td>\n",
       "      <td>6</td>\n",
       "      <td>1</td>\n",
       "      <td>Soda</td>\n",
       "      <td>...</td>\n",
       "      <td>8.0</td>\n",
       "      <td>Frequent customer</td>\n",
       "      <td>Female</td>\n",
       "      <td>Indiana</td>\n",
       "      <td>69</td>\n",
       "      <td>6/3/2019</td>\n",
       "      <td>0</td>\n",
       "      <td>divorced/widowed</td>\n",
       "      <td>54313</td>\n",
       "      <td>both</td>\n",
       "    </tr>\n",
       "    <tr>\n",
       "      <th>12</th>\n",
       "      <td>1911383</td>\n",
       "      <td>15</td>\n",
       "      <td>18</td>\n",
       "      <td>2</td>\n",
       "      <td>11</td>\n",
       "      <td>7.0</td>\n",
       "      <td>196</td>\n",
       "      <td>1</td>\n",
       "      <td>1</td>\n",
       "      <td>Soda</td>\n",
       "      <td>...</td>\n",
       "      <td>8.0</td>\n",
       "      <td>Frequent customer</td>\n",
       "      <td>Female</td>\n",
       "      <td>Indiana</td>\n",
       "      <td>69</td>\n",
       "      <td>6/3/2019</td>\n",
       "      <td>0</td>\n",
       "      <td>divorced/widowed</td>\n",
       "      <td>54313</td>\n",
       "      <td>both</td>\n",
       "    </tr>\n",
       "    <tr>\n",
       "      <th>13</th>\n",
       "      <td>2715276</td>\n",
       "      <td>15</td>\n",
       "      <td>21</td>\n",
       "      <td>1</td>\n",
       "      <td>9</td>\n",
       "      <td>7.0</td>\n",
       "      <td>196</td>\n",
       "      <td>1</td>\n",
       "      <td>1</td>\n",
       "      <td>Soda</td>\n",
       "      <td>...</td>\n",
       "      <td>8.0</td>\n",
       "      <td>Frequent customer</td>\n",
       "      <td>Female</td>\n",
       "      <td>Indiana</td>\n",
       "      <td>69</td>\n",
       "      <td>6/3/2019</td>\n",
       "      <td>0</td>\n",
       "      <td>divorced/widowed</td>\n",
       "      <td>54313</td>\n",
       "      <td>both</td>\n",
       "    </tr>\n",
       "    <tr>\n",
       "      <th>14</th>\n",
       "      <td>487368</td>\n",
       "      <td>15</td>\n",
       "      <td>22</td>\n",
       "      <td>1</td>\n",
       "      <td>10</td>\n",
       "      <td>14.0</td>\n",
       "      <td>196</td>\n",
       "      <td>1</td>\n",
       "      <td>1</td>\n",
       "      <td>Soda</td>\n",
       "      <td>...</td>\n",
       "      <td>8.0</td>\n",
       "      <td>Frequent customer</td>\n",
       "      <td>Female</td>\n",
       "      <td>Indiana</td>\n",
       "      <td>69</td>\n",
       "      <td>6/3/2019</td>\n",
       "      <td>0</td>\n",
       "      <td>divorced/widowed</td>\n",
       "      <td>54313</td>\n",
       "      <td>both</td>\n",
       "    </tr>\n",
       "  </tbody>\n",
       "</table>\n",
       "<p>15 rows × 31 columns</p>\n",
       "</div>"
      ],
      "text/plain": [
       "    order_id user_id  user_order_number  orders_day_of_week  \\\n",
       "0    2539329       1                  1                   2   \n",
       "1    2398795       1                  2                   3   \n",
       "2     473747       1                  3                   3   \n",
       "3    2254736       1                  4                   4   \n",
       "4     431534       1                  5                   4   \n",
       "5    3367565       1                  6                   2   \n",
       "6     550135       1                  7                   1   \n",
       "7    3108588       1                  8                   1   \n",
       "8    2295261       1                  9                   1   \n",
       "9    2550362       1                 10                   4   \n",
       "10   2968173      15                 15                   1   \n",
       "11   1870022      15                 17                   2   \n",
       "12   1911383      15                 18                   2   \n",
       "13   2715276      15                 21                   1   \n",
       "14    487368      15                 22                   1   \n",
       "\n",
       "    order_hour_of_day  days_since_prior_order  product_id  add_to_cart_order  \\\n",
       "0                   8                     0.0         196                  1   \n",
       "1                   7                    15.0         196                  1   \n",
       "2                  12                    21.0         196                  1   \n",
       "3                   7                    29.0         196                  1   \n",
       "4                  15                    28.0         196                  1   \n",
       "5                   7                    19.0         196                  1   \n",
       "6                   9                    20.0         196                  1   \n",
       "7                  14                    14.0         196                  2   \n",
       "8                  16                     0.0         196                  4   \n",
       "9                   8                    30.0         196                  1   \n",
       "10                  9                     7.0         196                  2   \n",
       "11                 16                     8.0         196                  6   \n",
       "12                 11                     7.0         196                  1   \n",
       "13                  9                     7.0         196                  1   \n",
       "14                 10                    14.0         196                  1   \n",
       "\n",
       "    reordered product_name  ...  order_freq    order_freq_flag  gender  \\\n",
       "0           0         Soda  ...        20.0   Regular customer  Female   \n",
       "1           1         Soda  ...        20.0   Regular customer  Female   \n",
       "2           1         Soda  ...        20.0   Regular customer  Female   \n",
       "3           1         Soda  ...        20.0   Regular customer  Female   \n",
       "4           1         Soda  ...        20.0   Regular customer  Female   \n",
       "5           1         Soda  ...        20.0   Regular customer  Female   \n",
       "6           1         Soda  ...        20.0   Regular customer  Female   \n",
       "7           1         Soda  ...        20.0   Regular customer  Female   \n",
       "8           1         Soda  ...        20.0   Regular customer  Female   \n",
       "9           1         Soda  ...        20.0   Regular customer  Female   \n",
       "10          0         Soda  ...         8.0  Frequent customer  Female   \n",
       "11          1         Soda  ...         8.0  Frequent customer  Female   \n",
       "12          1         Soda  ...         8.0  Frequent customer  Female   \n",
       "13          1         Soda  ...         8.0  Frequent customer  Female   \n",
       "14          1         Soda  ...         8.0  Frequent customer  Female   \n",
       "\n",
       "      state age date_joined n_dependants        fam_status income  _merge  \n",
       "0   Alabama  31   2/17/2019            3           married  40423    both  \n",
       "1   Alabama  31   2/17/2019            3           married  40423    both  \n",
       "2   Alabama  31   2/17/2019            3           married  40423    both  \n",
       "3   Alabama  31   2/17/2019            3           married  40423    both  \n",
       "4   Alabama  31   2/17/2019            3           married  40423    both  \n",
       "5   Alabama  31   2/17/2019            3           married  40423    both  \n",
       "6   Alabama  31   2/17/2019            3           married  40423    both  \n",
       "7   Alabama  31   2/17/2019            3           married  40423    both  \n",
       "8   Alabama  31   2/17/2019            3           married  40423    both  \n",
       "9   Alabama  31   2/17/2019            3           married  40423    both  \n",
       "10  Indiana  69    6/3/2019            0  divorced/widowed  54313    both  \n",
       "11  Indiana  69    6/3/2019            0  divorced/widowed  54313    both  \n",
       "12  Indiana  69    6/3/2019            0  divorced/widowed  54313    both  \n",
       "13  Indiana  69    6/3/2019            0  divorced/widowed  54313    both  \n",
       "14  Indiana  69    6/3/2019            0  divorced/widowed  54313    both  \n",
       "\n",
       "[15 rows x 31 columns]"
      ]
     },
     "execution_count": 4,
     "metadata": {},
     "output_type": "execute_result"
    }
   ],
   "source": [
    "df.head(15)"
   ]
  },
  {
   "cell_type": "markdown",
   "id": "19d6e49a",
   "metadata": {},
   "source": [
    "## Question 2.\n",
    "Consider any security implications that might exist for this new data. You’ll need to address any PII data in the data before continuing your analysis.\n"
   ]
  },
  {
   "cell_type": "code",
   "execution_count": 5,
   "id": "a1e5d52d",
   "metadata": {},
   "outputs": [
    {
     "data": {
      "text/plain": [
       "Index(['order_id', 'user_id', 'user_order_number', 'orders_day_of_week',\n",
       "       'order_hour_of_day', 'days_since_prior_order', 'product_id',\n",
       "       'add_to_cart_order', 'reordered', 'product_name', 'aisle_id',\n",
       "       'department_id', 'prices', 'price_range_loc', 'busiest day',\n",
       "       'busiest days', 'busiest_period_of_day', 'max_order', 'loyalty_flag',\n",
       "       'avg_spend', 'spend_flag', 'order_freq', 'order_freq_flag', 'gender',\n",
       "       'state', 'age', 'date_joined', 'n_dependants', 'fam_status', 'income',\n",
       "       '_merge'],\n",
       "      dtype='object')"
      ]
     },
     "execution_count": 5,
     "metadata": {},
     "output_type": "execute_result"
    }
   ],
   "source": [
    "df.columns"
   ]
  },
  {
   "cell_type": "markdown",
   "id": "39cbba5c",
   "metadata": {},
   "source": [
    "Based on the columns list above, there are 2 columns in particular that contain PII and cannot be included in the analysis.  `first_name` and `last_name`.  These columns contain identifiable information and therefore should not be used due to privacy concerns."
   ]
  },
  {
   "cell_type": "markdown",
   "id": "e872f265",
   "metadata": {},
   "source": [
    "## Question 3.\n",
    "The Instacart officers are interested in comparing customer behavior in different geographic areas. Create a regional segmentation of the data. You’ll need to create a “Region” column based on the “State” column from your customers data set.\n",
    "- Use the region information in this Wikipedia article to create your column (you only need to create regions, not divisions).\n",
    "- Determine whether there’s a difference in spending habits between the different U.S. regions. (Hint: You can do this by crossing the variable you just created with the spending flag.)"
   ]
  },
  {
   "cell_type": "code",
   "execution_count": 6,
   "id": "feee8b24",
   "metadata": {},
   "outputs": [
    {
     "data": {
      "text/plain": [
       "Pennsylvania            667082\n",
       "California              659783\n",
       "Rhode Island            656913\n",
       "Georgia                 656389\n",
       "New Mexico              654494\n",
       "Arizona                 653964\n",
       "North Carolina          651900\n",
       "Oklahoma                651739\n",
       "Alaska                  648495\n",
       "Minnesota               647825\n",
       "Massachusetts           646358\n",
       "Wyoming                 644255\n",
       "Virginia                641421\n",
       "Missouri                640732\n",
       "Texas                   640394\n",
       "Colorado                639280\n",
       "Maine                   638583\n",
       "North Dakota            638491\n",
       "Alabama                 638003\n",
       "Kansas                  637538\n",
       "Louisiana               637482\n",
       "Delaware                637024\n",
       "South Carolina          636754\n",
       "Oregon                  636425\n",
       "Arkansas                636144\n",
       "Nevada                  636139\n",
       "New York                635983\n",
       "Montana                 635265\n",
       "South Dakota            633772\n",
       "Illinois                633024\n",
       "Hawaii                  632901\n",
       "Washington              632852\n",
       "Mississippi             632675\n",
       "Kentucky                632490\n",
       "Michigan                630928\n",
       "Florida                 629027\n",
       "Ohio                    628319\n",
       "Wisconsin               628108\n",
       "New Jersey              627692\n",
       "Indiana                 627282\n",
       "Maryland                626579\n",
       "Nebraska                625813\n",
       "Iowa                    625493\n",
       "Connecticut             623022\n",
       "Tennessee               617873\n",
       "New Hampshire           615378\n",
       "District of Columbia    613695\n",
       "West Virginia           612296\n",
       "Utah                    611941\n",
       "Vermont                 611725\n",
       "Idaho                   607119\n",
       "Name: state, dtype: int64"
      ]
     },
     "execution_count": 6,
     "metadata": {},
     "output_type": "execute_result"
    }
   ],
   "source": [
    "# To verify correlation of spellings/capitalization for future sorting\n",
    "df['state'].value_counts()"
   ]
  },
  {
   "cell_type": "code",
   "execution_count": 7,
   "id": "dbdcc296",
   "metadata": {},
   "outputs": [],
   "source": [
    "northeast = ['Maine','New Hampshire','Vermont','Massachusetts',\n",
    "            'Rhode Island','Connecticut','New York','Pennsylvania',\n",
    "            'New Jersey']"
   ]
  },
  {
   "cell_type": "code",
   "execution_count": 8,
   "id": "8f042603",
   "metadata": {},
   "outputs": [],
   "source": [
    "midwest = ['Wisconsin','Michigan','Illinois','Indiana','Ohio',\n",
    "          'North Dakota','South Dakota','Nebraska','Kansas',\n",
    "          'Minnesota','Iowa','Missouri']"
   ]
  },
  {
   "cell_type": "code",
   "execution_count": 9,
   "id": "6e99ba83",
   "metadata": {},
   "outputs": [],
   "source": [
    "south = ['Delaware','Maryland','District of Columbia','Virginia',\n",
    "        'West Virginia','North Carolina','South Carolina',\n",
    "        'Georgia','Florida','Kentucky','Tennessee','Mississippi',\n",
    "        'Alabama','Oklahoma','Texas','Arkansas','Louisiana']"
   ]
  },
  {
   "cell_type": "code",
   "execution_count": 10,
   "id": "ec333a90",
   "metadata": {},
   "outputs": [],
   "source": [
    "west = ['Idaho','Montana','Wyoming','Nevada','Utah','Colorado',\n",
    "       'Arizona','New Mexico','Alaska','Washington','Oregon',\n",
    "       'California','Hawaii']"
   ]
  },
  {
   "cell_type": "code",
   "execution_count": 11,
   "id": "757bca8d",
   "metadata": {},
   "outputs": [],
   "source": [
    "states = []\n",
    "\n",
    "for x in df['state']:\n",
    "    if x in northeast:\n",
    "        states.append('Northeast')\n",
    "    elif x in midwest:\n",
    "        states.append('Midwest')\n",
    "    elif x in south:\n",
    "        states.append('South')\n",
    "    elif x in west:\n",
    "        states.append('West')\n",
    "        \n",
    "# Purposefully using elif instead of else to verify all\n",
    "# locations receive a region."
   ]
  },
  {
   "cell_type": "code",
   "execution_count": 12,
   "id": "efa28697",
   "metadata": {},
   "outputs": [],
   "source": [
    "df['region'] = states"
   ]
  },
  {
   "cell_type": "code",
   "execution_count": 13,
   "id": "ce00672d",
   "metadata": {},
   "outputs": [
    {
     "data": {
      "text/plain": [
       "South        10791885\n",
       "West          8292913\n",
       "Midwest       7597325\n",
       "Northeast     5722736\n",
       "Name: region, dtype: int64"
      ]
     },
     "execution_count": 13,
     "metadata": {},
     "output_type": "execute_result"
    }
   ],
   "source": [
    "df['region'].value_counts()"
   ]
  },
  {
   "cell_type": "code",
   "execution_count": 14,
   "id": "375c1fdf",
   "metadata": {},
   "outputs": [],
   "source": [
    "reg_cross = pd.crosstab(df['region'],df['spend_flag'],dropna = False)"
   ]
  },
  {
   "cell_type": "code",
   "execution_count": 15,
   "id": "bb441c0d",
   "metadata": {},
   "outputs": [
    {
     "data": {
      "text/html": [
       "<div>\n",
       "<style scoped>\n",
       "    .dataframe tbody tr th:only-of-type {\n",
       "        vertical-align: middle;\n",
       "    }\n",
       "\n",
       "    .dataframe tbody tr th {\n",
       "        vertical-align: top;\n",
       "    }\n",
       "\n",
       "    .dataframe thead th {\n",
       "        text-align: right;\n",
       "    }\n",
       "</style>\n",
       "<table border=\"1\" class=\"dataframe\">\n",
       "  <thead>\n",
       "    <tr style=\"text-align: right;\">\n",
       "      <th>spend_flag</th>\n",
       "      <th>High spender</th>\n",
       "      <th>Low spender</th>\n",
       "    </tr>\n",
       "    <tr>\n",
       "      <th>region</th>\n",
       "      <th></th>\n",
       "      <th></th>\n",
       "    </tr>\n",
       "  </thead>\n",
       "  <tbody>\n",
       "    <tr>\n",
       "      <th>Midwest</th>\n",
       "      <td>155946</td>\n",
       "      <td>7441379</td>\n",
       "    </tr>\n",
       "    <tr>\n",
       "      <th>Northeast</th>\n",
       "      <td>108218</td>\n",
       "      <td>5614518</td>\n",
       "    </tr>\n",
       "    <tr>\n",
       "      <th>South</th>\n",
       "      <td>209637</td>\n",
       "      <td>10582248</td>\n",
       "    </tr>\n",
       "    <tr>\n",
       "      <th>West</th>\n",
       "      <td>160316</td>\n",
       "      <td>8132597</td>\n",
       "    </tr>\n",
       "  </tbody>\n",
       "</table>\n",
       "</div>"
      ],
      "text/plain": [
       "spend_flag  High spender  Low spender\n",
       "region                               \n",
       "Midwest           155946      7441379\n",
       "Northeast         108218      5614518\n",
       "South             209637     10582248\n",
       "West              160316      8132597"
      ]
     },
     "execution_count": 15,
     "metadata": {},
     "output_type": "execute_result"
    }
   ],
   "source": [
    "reg_cross"
   ]
  },
  {
   "cell_type": "markdown",
   "id": "95607eaf",
   "metadata": {},
   "source": [
    "While there is some information, it's hard to determine if values are high or low due to differences in sample size. We need to normalize across regions."
   ]
  },
  {
   "cell_type": "code",
   "execution_count": 16,
   "id": "d30ac5eb",
   "metadata": {},
   "outputs": [],
   "source": [
    "reg_cross = pd.crosstab(df['region'],df['spend_flag'],\n",
    "                        dropna = False,normalize = 'index')"
   ]
  },
  {
   "cell_type": "code",
   "execution_count": 17,
   "id": "2d4147fc",
   "metadata": {},
   "outputs": [
    {
     "data": {
      "text/html": [
       "<div>\n",
       "<style scoped>\n",
       "    .dataframe tbody tr th:only-of-type {\n",
       "        vertical-align: middle;\n",
       "    }\n",
       "\n",
       "    .dataframe tbody tr th {\n",
       "        vertical-align: top;\n",
       "    }\n",
       "\n",
       "    .dataframe thead th {\n",
       "        text-align: right;\n",
       "    }\n",
       "</style>\n",
       "<table border=\"1\" class=\"dataframe\">\n",
       "  <thead>\n",
       "    <tr style=\"text-align: right;\">\n",
       "      <th>spend_flag</th>\n",
       "      <th>High spender</th>\n",
       "      <th>Low spender</th>\n",
       "    </tr>\n",
       "    <tr>\n",
       "      <th>region</th>\n",
       "      <th></th>\n",
       "      <th></th>\n",
       "    </tr>\n",
       "  </thead>\n",
       "  <tbody>\n",
       "    <tr>\n",
       "      <th>Midwest</th>\n",
       "      <td>0.020526</td>\n",
       "      <td>0.979474</td>\n",
       "    </tr>\n",
       "    <tr>\n",
       "      <th>Northeast</th>\n",
       "      <td>0.018910</td>\n",
       "      <td>0.981090</td>\n",
       "    </tr>\n",
       "    <tr>\n",
       "      <th>South</th>\n",
       "      <td>0.019425</td>\n",
       "      <td>0.980575</td>\n",
       "    </tr>\n",
       "    <tr>\n",
       "      <th>West</th>\n",
       "      <td>0.019332</td>\n",
       "      <td>0.980668</td>\n",
       "    </tr>\n",
       "  </tbody>\n",
       "</table>\n",
       "</div>"
      ],
      "text/plain": [
       "spend_flag  High spender  Low spender\n",
       "region                               \n",
       "Midwest         0.020526     0.979474\n",
       "Northeast       0.018910     0.981090\n",
       "South           0.019425     0.980575\n",
       "West            0.019332     0.980668"
      ]
     },
     "execution_count": 17,
     "metadata": {},
     "output_type": "execute_result"
    }
   ],
   "source": [
    "reg_cross"
   ]
  },
  {
   "cell_type": "code",
   "execution_count": 18,
   "id": "698a264d",
   "metadata": {},
   "outputs": [
    {
     "data": {
      "image/png": "[encoded data removed]",
      "text/plain": [
       "<Figure size 432x288 with 2 Axes>"
      ]
     },
     "metadata": {
      "needs_background": "light"
     },
     "output_type": "display_data"
    }
   ],
   "source": [
    "region_spend = reg_cross.plot(kind = 'bar',subplots = True)"
   ]
  },
  {
   "cell_type": "markdown",
   "id": "c38e0194",
   "metadata": {},
   "source": [
    "This indicates that the midwest has the largest proportion of high spenders, and the northeast has the lowest proportion of high spenders."
   ]
  },
  {
   "cell_type": "markdown",
   "id": "5bb136a7",
   "metadata": {},
   "source": [
    "## Question 4.\n",
    "The Instacart CFO isn’t interested in customers who don’t generate much revenue for the app. Create an exclusion flag for low-activity customers (customers with less than 5 orders) and exclude them from the data. Make sure you export this sample."
   ]
  },
  {
   "cell_type": "code",
   "execution_count": 19,
   "id": "0b5d63d7",
   "metadata": {},
   "outputs": [
    {
     "data": {
      "text/plain": [
       "99    1171333\n",
       "8      811843\n",
       "6      811396\n",
       "9      810213\n",
       "7      803979\n",
       "       ...   \n",
       "97      44949\n",
       "98      44587\n",
       "96      40453\n",
       "2           6\n",
       "1           5\n",
       "Name: max_order, Length: 99, dtype: int64"
      ]
     },
     "execution_count": 19,
     "metadata": {},
     "output_type": "execute_result"
    }
   ],
   "source": [
    "df['max_order'].value_counts()"
   ]
  },
  {
   "cell_type": "markdown",
   "id": "76356bb5",
   "metadata": {},
   "source": [
    "The `max_order` column indicates how many total orders have been placed per `user_id`. All that needs to be done is to remove users that have a `max_order` number of < 5"
   ]
  },
  {
   "cell_type": "code",
   "execution_count": 20,
   "id": "26d8fc67",
   "metadata": {},
   "outputs": [],
   "source": [
    "low_freq_filt = df['max_order'] < 5"
   ]
  },
  {
   "cell_type": "code",
   "execution_count": 21,
   "id": "ce683795",
   "metadata": {},
   "outputs": [
    {
     "data": {
      "text/plain": [
       "(32404859, 32)"
      ]
     },
     "execution_count": 21,
     "metadata": {},
     "output_type": "execute_result"
    }
   ],
   "source": [
    "df.shape"
   ]
  },
  {
   "cell_type": "code",
   "execution_count": 22,
   "id": "d5e82b1f",
   "metadata": {},
   "outputs": [],
   "source": [
    "df_low = df[low_freq_filt]"
   ]
  },
  {
   "cell_type": "code",
   "execution_count": 23,
   "id": "6c17a48f",
   "metadata": {},
   "outputs": [
    {
     "data": {
      "text/plain": [
       "(1440295, 32)"
      ]
     },
     "execution_count": 23,
     "metadata": {},
     "output_type": "execute_result"
    }
   ],
   "source": [
    "df_low.shape"
   ]
  },
  {
   "cell_type": "code",
   "execution_count": 24,
   "id": "9dd1ff19",
   "metadata": {},
   "outputs": [],
   "source": [
    "df = df[~low_freq_filt]"
   ]
  },
  {
   "cell_type": "code",
   "execution_count": 25,
   "id": "5f392bca",
   "metadata": {},
   "outputs": [
    {
     "data": {
      "text/plain": [
       "(30964564, 32)"
      ]
     },
     "execution_count": 25,
     "metadata": {},
     "output_type": "execute_result"
    }
   ],
   "source": [
    "df.shape"
   ]
  },
  {
   "cell_type": "markdown",
   "id": "a7cfe3a6",
   "metadata": {},
   "source": [
    "The dataframe's added together have the same number of rows as the initial dataframe.  No information was lost."
   ]
  },
  {
   "cell_type": "code",
   "execution_count": 26,
   "id": "f3efce02",
   "metadata": {},
   "outputs": [],
   "source": [
    "df_low.to_pickle(os.path.join(path,'02 Data','Prepared Data','low_freq_custs.pkl'))"
   ]
  },
  {
   "cell_type": "markdown",
   "id": "18cb4d39",
   "metadata": {},
   "source": [
    "## Question 5.\n",
    "The marketing and business strategy units at Instacart want to create more-relevant marketing strategies for different products and are, thus, curious about customer profiling in their database. Create a profiling variable based on age, income, certain goods in the “department_id” column, and number of dependents. You might also use the “orders_day_of_the_week” and “order_hour_of_day” columns if you can think of a way they would impact customer profiles. (Hint: As an example, try thinking of what characteristics would lead you to the profile “Single adult” or “Young parent.”)"
   ]
  },
  {
   "cell_type": "code",
   "execution_count": 27,
   "id": "9e2179f6",
   "metadata": {},
   "outputs": [
    {
     "data": {
      "text/plain": [
       "Index(['order_id', 'user_id', 'user_order_number', 'orders_day_of_week',\n",
       "       'order_hour_of_day', 'days_since_prior_order', 'product_id',\n",
       "       'add_to_cart_order', 'reordered', 'product_name', 'aisle_id',\n",
       "       'department_id', 'prices', 'price_range_loc', 'busiest day',\n",
       "       'busiest days', 'busiest_period_of_day', 'max_order', 'loyalty_flag',\n",
       "       'avg_spend', 'spend_flag', 'order_freq', 'order_freq_flag', 'gender',\n",
       "       'state', 'age', 'date_joined', 'n_dependants', 'fam_status', 'income',\n",
       "       '_merge', 'region'],\n",
       "      dtype='object')"
      ]
     },
     "execution_count": 27,
     "metadata": {},
     "output_type": "execute_result"
    }
   ],
   "source": [
    "df.columns"
   ]
  },
  {
   "cell_type": "markdown",
   "id": "20285e16",
   "metadata": {},
   "source": [
    "According to https://www.investopedia.com/financial-edge/0912/which-income-class-are-you.aspx, Middle income is from `$40,500` to `$122,000`.  This will be used to define lower, middle, and higher income."
   ]
  },
  {
   "cell_type": "code",
   "execution_count": 28,
   "id": "0588bbc3",
   "metadata": {},
   "outputs": [],
   "source": [
    "df.loc[(df['income']<40500), 'Income Level'] = 'Low income'"
   ]
  },
  {
   "cell_type": "code",
   "execution_count": 29,
   "id": "4321a285",
   "metadata": {},
   "outputs": [],
   "source": [
    "df.loc[(df['income']>=40500) & (df['income']<122000), 'Income Level'] = 'Middle income'"
   ]
  },
  {
   "cell_type": "code",
   "execution_count": 30,
   "id": "1a1f0a99",
   "metadata": {},
   "outputs": [],
   "source": [
    "df.loc[(df['income']>=122000), 'Income Level'] = 'High income'"
   ]
  },
  {
   "cell_type": "code",
   "execution_count": 31,
   "id": "9e6bdffe",
   "metadata": {},
   "outputs": [
    {
     "data": {
      "text/plain": [
       "Middle income    20454402\n",
       "High income       8824612\n",
       "Low income        1685550\n",
       "Name: Income Level, dtype: int64"
      ]
     },
     "execution_count": 31,
     "metadata": {},
     "output_type": "execute_result"
    }
   ],
   "source": [
    "df['Income Level'].value_counts()"
   ]
  },
  {
   "cell_type": "markdown",
   "id": "3398844e",
   "metadata": {},
   "source": [
    "To add parental status using dependents, we will use 18-29 as `young_parents`, 30-49 as `middle_age_parents`, and 50+ as `older_parents`. `no_dependents` will also be added for customers who either don't have kids, or have dependents that have moved out."
   ]
  },
  {
   "cell_type": "code",
   "execution_count": 32,
   "id": "c93befa5",
   "metadata": {},
   "outputs": [],
   "source": [
    "df.loc[(df['n_dependants'] == 0),'Parent Status'] = 'No dependants'"
   ]
  },
  {
   "cell_type": "code",
   "execution_count": 33,
   "id": "7c54e2a7",
   "metadata": {},
   "outputs": [],
   "source": [
    "df.loc[(df['n_dependants'] != 0) & (df['age']>=18) & (df['age']<30),'Parent Status'] = 'Young parent'"
   ]
  },
  {
   "cell_type": "code",
   "execution_count": 34,
   "id": "2fceea11",
   "metadata": {},
   "outputs": [],
   "source": [
    "df.loc[(df['n_dependants'] != 0) & (df['age']>=30) & (df['age']<50),'Parent Status'] = 'Middle-aged parent'"
   ]
  },
  {
   "cell_type": "code",
   "execution_count": 35,
   "id": "0ea5795a",
   "metadata": {},
   "outputs": [],
   "source": [
    "df.loc[(df['n_dependants'] != 0) & (df['age']>=50),'Parent Status'] = 'Older parent'"
   ]
  },
  {
   "cell_type": "code",
   "execution_count": 36,
   "id": "aa43da22",
   "metadata": {},
   "outputs": [
    {
     "data": {
      "text/plain": [
       "Older parent          11550903\n",
       "No dependants          7739681\n",
       "Middle-aged parent     7303995\n",
       "Young parent           4369985\n",
       "Name: Parent Status, dtype: int64"
      ]
     },
     "execution_count": 36,
     "metadata": {},
     "output_type": "execute_result"
    }
   ],
   "source": [
    "df['Parent Status'].value_counts(dropna = False)"
   ]
  },
  {
   "cell_type": "code",
   "execution_count": 37,
   "id": "b11ac44e",
   "metadata": {},
   "outputs": [],
   "source": [
    "df_profiles = df[['user_id','Parent Status','region','Income Level','prices','department_id']]"
   ]
  },
  {
   "cell_type": "code",
   "execution_count": 38,
   "id": "40a3ae9c",
   "metadata": {},
   "outputs": [
    {
     "data": {
      "text/html": [
       "<div>\n",
       "<style scoped>\n",
       "    .dataframe tbody tr th:only-of-type {\n",
       "        vertical-align: middle;\n",
       "    }\n",
       "\n",
       "    .dataframe tbody tr th {\n",
       "        vertical-align: top;\n",
       "    }\n",
       "\n",
       "    .dataframe thead th {\n",
       "        text-align: right;\n",
       "    }\n",
       "</style>\n",
       "<table border=\"1\" class=\"dataframe\">\n",
       "  <thead>\n",
       "    <tr style=\"text-align: right;\">\n",
       "      <th></th>\n",
       "      <th>user_id</th>\n",
       "      <th>Parent Status</th>\n",
       "      <th>region</th>\n",
       "      <th>Income Level</th>\n",
       "      <th>prices</th>\n",
       "      <th>department_id</th>\n",
       "    </tr>\n",
       "  </thead>\n",
       "  <tbody>\n",
       "    <tr>\n",
       "      <th>0</th>\n",
       "      <td>1</td>\n",
       "      <td>Middle-aged parent</td>\n",
       "      <td>South</td>\n",
       "      <td>Low income</td>\n",
       "      <td>9.0</td>\n",
       "      <td>7</td>\n",
       "    </tr>\n",
       "    <tr>\n",
       "      <th>1</th>\n",
       "      <td>1</td>\n",
       "      <td>Middle-aged parent</td>\n",
       "      <td>South</td>\n",
       "      <td>Low income</td>\n",
       "      <td>9.0</td>\n",
       "      <td>7</td>\n",
       "    </tr>\n",
       "    <tr>\n",
       "      <th>2</th>\n",
       "      <td>1</td>\n",
       "      <td>Middle-aged parent</td>\n",
       "      <td>South</td>\n",
       "      <td>Low income</td>\n",
       "      <td>9.0</td>\n",
       "      <td>7</td>\n",
       "    </tr>\n",
       "    <tr>\n",
       "      <th>3</th>\n",
       "      <td>1</td>\n",
       "      <td>Middle-aged parent</td>\n",
       "      <td>South</td>\n",
       "      <td>Low income</td>\n",
       "      <td>9.0</td>\n",
       "      <td>7</td>\n",
       "    </tr>\n",
       "    <tr>\n",
       "      <th>4</th>\n",
       "      <td>1</td>\n",
       "      <td>Middle-aged parent</td>\n",
       "      <td>South</td>\n",
       "      <td>Low income</td>\n",
       "      <td>9.0</td>\n",
       "      <td>7</td>\n",
       "    </tr>\n",
       "    <tr>\n",
       "      <th>5</th>\n",
       "      <td>1</td>\n",
       "      <td>Middle-aged parent</td>\n",
       "      <td>South</td>\n",
       "      <td>Low income</td>\n",
       "      <td>9.0</td>\n",
       "      <td>7</td>\n",
       "    </tr>\n",
       "    <tr>\n",
       "      <th>6</th>\n",
       "      <td>1</td>\n",
       "      <td>Middle-aged parent</td>\n",
       "      <td>South</td>\n",
       "      <td>Low income</td>\n",
       "      <td>9.0</td>\n",
       "      <td>7</td>\n",
       "    </tr>\n",
       "    <tr>\n",
       "      <th>7</th>\n",
       "      <td>1</td>\n",
       "      <td>Middle-aged parent</td>\n",
       "      <td>South</td>\n",
       "      <td>Low income</td>\n",
       "      <td>9.0</td>\n",
       "      <td>7</td>\n",
       "    </tr>\n",
       "    <tr>\n",
       "      <th>8</th>\n",
       "      <td>1</td>\n",
       "      <td>Middle-aged parent</td>\n",
       "      <td>South</td>\n",
       "      <td>Low income</td>\n",
       "      <td>9.0</td>\n",
       "      <td>7</td>\n",
       "    </tr>\n",
       "    <tr>\n",
       "      <th>9</th>\n",
       "      <td>1</td>\n",
       "      <td>Middle-aged parent</td>\n",
       "      <td>South</td>\n",
       "      <td>Low income</td>\n",
       "      <td>9.0</td>\n",
       "      <td>7</td>\n",
       "    </tr>\n",
       "    <tr>\n",
       "      <th>10</th>\n",
       "      <td>15</td>\n",
       "      <td>No dependants</td>\n",
       "      <td>Midwest</td>\n",
       "      <td>Middle income</td>\n",
       "      <td>9.0</td>\n",
       "      <td>7</td>\n",
       "    </tr>\n",
       "    <tr>\n",
       "      <th>11</th>\n",
       "      <td>15</td>\n",
       "      <td>No dependants</td>\n",
       "      <td>Midwest</td>\n",
       "      <td>Middle income</td>\n",
       "      <td>9.0</td>\n",
       "      <td>7</td>\n",
       "    </tr>\n",
       "    <tr>\n",
       "      <th>12</th>\n",
       "      <td>15</td>\n",
       "      <td>No dependants</td>\n",
       "      <td>Midwest</td>\n",
       "      <td>Middle income</td>\n",
       "      <td>9.0</td>\n",
       "      <td>7</td>\n",
       "    </tr>\n",
       "    <tr>\n",
       "      <th>13</th>\n",
       "      <td>15</td>\n",
       "      <td>No dependants</td>\n",
       "      <td>Midwest</td>\n",
       "      <td>Middle income</td>\n",
       "      <td>9.0</td>\n",
       "      <td>7</td>\n",
       "    </tr>\n",
       "    <tr>\n",
       "      <th>14</th>\n",
       "      <td>15</td>\n",
       "      <td>No dependants</td>\n",
       "      <td>Midwest</td>\n",
       "      <td>Middle income</td>\n",
       "      <td>9.0</td>\n",
       "      <td>7</td>\n",
       "    </tr>\n",
       "  </tbody>\n",
       "</table>\n",
       "</div>"
      ],
      "text/plain": [
       "   user_id       Parent Status   region   Income Level  prices  department_id\n",
       "0        1  Middle-aged parent    South     Low income     9.0              7\n",
       "1        1  Middle-aged parent    South     Low income     9.0              7\n",
       "2        1  Middle-aged parent    South     Low income     9.0              7\n",
       "3        1  Middle-aged parent    South     Low income     9.0              7\n",
       "4        1  Middle-aged parent    South     Low income     9.0              7\n",
       "5        1  Middle-aged parent    South     Low income     9.0              7\n",
       "6        1  Middle-aged parent    South     Low income     9.0              7\n",
       "7        1  Middle-aged parent    South     Low income     9.0              7\n",
       "8        1  Middle-aged parent    South     Low income     9.0              7\n",
       "9        1  Middle-aged parent    South     Low income     9.0              7\n",
       "10      15       No dependants  Midwest  Middle income     9.0              7\n",
       "11      15       No dependants  Midwest  Middle income     9.0              7\n",
       "12      15       No dependants  Midwest  Middle income     9.0              7\n",
       "13      15       No dependants  Midwest  Middle income     9.0              7\n",
       "14      15       No dependants  Midwest  Middle income     9.0              7"
      ]
     },
     "execution_count": 38,
     "metadata": {},
     "output_type": "execute_result"
    }
   ],
   "source": [
    "df_profiles.head(15)"
   ]
  },
  {
   "cell_type": "code",
   "execution_count": 39,
   "id": "f63232c9",
   "metadata": {},
   "outputs": [],
   "source": [
    "df_department = df_profiles.groupby('user_id').count()"
   ]
  },
  {
   "cell_type": "code",
   "execution_count": 40,
   "id": "44fcafc6",
   "metadata": {},
   "outputs": [
    {
     "data": {
      "text/html": [
       "<div>\n",
       "<style scoped>\n",
       "    .dataframe tbody tr th:only-of-type {\n",
       "        vertical-align: middle;\n",
       "    }\n",
       "\n",
       "    .dataframe tbody tr th {\n",
       "        vertical-align: top;\n",
       "    }\n",
       "\n",
       "    .dataframe thead th {\n",
       "        text-align: right;\n",
       "    }\n",
       "</style>\n",
       "<table border=\"1\" class=\"dataframe\">\n",
       "  <thead>\n",
       "    <tr style=\"text-align: right;\">\n",
       "      <th></th>\n",
       "      <th>Parent Status</th>\n",
       "      <th>region</th>\n",
       "      <th>Income Level</th>\n",
       "      <th>prices</th>\n",
       "      <th>department_id</th>\n",
       "    </tr>\n",
       "    <tr>\n",
       "      <th>user_id</th>\n",
       "      <th></th>\n",
       "      <th></th>\n",
       "      <th></th>\n",
       "      <th></th>\n",
       "      <th></th>\n",
       "    </tr>\n",
       "  </thead>\n",
       "  <tbody>\n",
       "    <tr>\n",
       "      <th>1</th>\n",
       "      <td>59</td>\n",
       "      <td>59</td>\n",
       "      <td>59</td>\n",
       "      <td>59</td>\n",
       "      <td>59</td>\n",
       "    </tr>\n",
       "    <tr>\n",
       "      <th>10</th>\n",
       "      <td>143</td>\n",
       "      <td>143</td>\n",
       "      <td>143</td>\n",
       "      <td>143</td>\n",
       "      <td>143</td>\n",
       "    </tr>\n",
       "    <tr>\n",
       "      <th>100</th>\n",
       "      <td>27</td>\n",
       "      <td>27</td>\n",
       "      <td>27</td>\n",
       "      <td>27</td>\n",
       "      <td>27</td>\n",
       "    </tr>\n",
       "    <tr>\n",
       "      <th>1000</th>\n",
       "      <td>103</td>\n",
       "      <td>103</td>\n",
       "      <td>103</td>\n",
       "      <td>103</td>\n",
       "      <td>103</td>\n",
       "    </tr>\n",
       "    <tr>\n",
       "      <th>10000</th>\n",
       "      <td>1092</td>\n",
       "      <td>1092</td>\n",
       "      <td>1092</td>\n",
       "      <td>1092</td>\n",
       "      <td>1092</td>\n",
       "    </tr>\n",
       "    <tr>\n",
       "      <th>...</th>\n",
       "      <td>...</td>\n",
       "      <td>...</td>\n",
       "      <td>...</td>\n",
       "      <td>...</td>\n",
       "      <td>...</td>\n",
       "    </tr>\n",
       "    <tr>\n",
       "      <th>99994</th>\n",
       "      <td>164</td>\n",
       "      <td>164</td>\n",
       "      <td>164</td>\n",
       "      <td>164</td>\n",
       "      <td>164</td>\n",
       "    </tr>\n",
       "    <tr>\n",
       "      <th>99995</th>\n",
       "      <td>50</td>\n",
       "      <td>50</td>\n",
       "      <td>50</td>\n",
       "      <td>50</td>\n",
       "      <td>50</td>\n",
       "    </tr>\n",
       "    <tr>\n",
       "      <th>99996</th>\n",
       "      <td>128</td>\n",
       "      <td>128</td>\n",
       "      <td>128</td>\n",
       "      <td>128</td>\n",
       "      <td>128</td>\n",
       "    </tr>\n",
       "    <tr>\n",
       "      <th>99998</th>\n",
       "      <td>21</td>\n",
       "      <td>21</td>\n",
       "      <td>21</td>\n",
       "      <td>21</td>\n",
       "      <td>21</td>\n",
       "    </tr>\n",
       "    <tr>\n",
       "      <th>99999</th>\n",
       "      <td>329</td>\n",
       "      <td>329</td>\n",
       "      <td>329</td>\n",
       "      <td>329</td>\n",
       "      <td>329</td>\n",
       "    </tr>\n",
       "  </tbody>\n",
       "</table>\n",
       "<p>162631 rows × 5 columns</p>\n",
       "</div>"
      ],
      "text/plain": [
       "         Parent Status  region  Income Level  prices  department_id\n",
       "user_id                                                            \n",
       "1                   59      59            59      59             59\n",
       "10                 143     143           143     143            143\n",
       "100                 27      27            27      27             27\n",
       "1000               103     103           103     103            103\n",
       "10000             1092    1092          1092    1092           1092\n",
       "...                ...     ...           ...     ...            ...\n",
       "99994              164     164           164     164            164\n",
       "99995               50      50            50      50             50\n",
       "99996              128     128           128     128            128\n",
       "99998               21      21            21      21             21\n",
       "99999              329     329           329     329            329\n",
       "\n",
       "[162631 rows x 5 columns]"
      ]
     },
     "execution_count": 40,
     "metadata": {},
     "output_type": "execute_result"
    }
   ],
   "source": [
    "df_department"
   ]
  },
  {
   "cell_type": "code",
   "execution_count": 41,
   "id": "44fea32b",
   "metadata": {},
   "outputs": [],
   "source": [
    "df_parents = df_profiles.groupby('Parent Status').agg({'user_id':'nunique'})"
   ]
  },
  {
   "cell_type": "code",
   "execution_count": 42,
   "id": "11742828",
   "metadata": {},
   "outputs": [
    {
     "data": {
      "text/html": [
       "<div>\n",
       "<style scoped>\n",
       "    .dataframe tbody tr th:only-of-type {\n",
       "        vertical-align: middle;\n",
       "    }\n",
       "\n",
       "    .dataframe tbody tr th {\n",
       "        vertical-align: top;\n",
       "    }\n",
       "\n",
       "    .dataframe thead th {\n",
       "        text-align: right;\n",
       "    }\n",
       "</style>\n",
       "<table border=\"1\" class=\"dataframe\">\n",
       "  <thead>\n",
       "    <tr style=\"text-align: right;\">\n",
       "      <th></th>\n",
       "      <th>user_id</th>\n",
       "    </tr>\n",
       "    <tr>\n",
       "      <th>Parent Status</th>\n",
       "      <th></th>\n",
       "    </tr>\n",
       "  </thead>\n",
       "  <tbody>\n",
       "    <tr>\n",
       "      <th>Middle-aged parent</th>\n",
       "      <td>38118</td>\n",
       "    </tr>\n",
       "    <tr>\n",
       "      <th>No dependants</th>\n",
       "      <td>40727</td>\n",
       "    </tr>\n",
       "    <tr>\n",
       "      <th>Older parent</th>\n",
       "      <td>61112</td>\n",
       "    </tr>\n",
       "    <tr>\n",
       "      <th>Young parent</th>\n",
       "      <td>22674</td>\n",
       "    </tr>\n",
       "  </tbody>\n",
       "</table>\n",
       "</div>"
      ],
      "text/plain": [
       "                    user_id\n",
       "Parent Status              \n",
       "Middle-aged parent    38118\n",
       "No dependants         40727\n",
       "Older parent          61112\n",
       "Young parent          22674"
      ]
     },
     "execution_count": 42,
     "metadata": {},
     "output_type": "execute_result"
    }
   ],
   "source": [
    "df_parents"
   ]
  },
  {
   "cell_type": "code",
   "execution_count": 43,
   "id": "df664201",
   "metadata": {},
   "outputs": [],
   "source": [
    "df_parent_income = df_profiles.groupby(['Parent Status','Income Level']).agg({'user_id':'nunique'})"
   ]
  },
  {
   "cell_type": "code",
   "execution_count": 44,
   "id": "65f9c16b",
   "metadata": {
    "scrolled": false
   },
   "outputs": [
    {
     "data": {
      "text/html": [
       "<div>\n",
       "<style scoped>\n",
       "    .dataframe tbody tr th:only-of-type {\n",
       "        vertical-align: middle;\n",
       "    }\n",
       "\n",
       "    .dataframe tbody tr th {\n",
       "        vertical-align: top;\n",
       "    }\n",
       "\n",
       "    .dataframe thead th {\n",
       "        text-align: right;\n",
       "    }\n",
       "</style>\n",
       "<table border=\"1\" class=\"dataframe\">\n",
       "  <thead>\n",
       "    <tr style=\"text-align: right;\">\n",
       "      <th></th>\n",
       "      <th></th>\n",
       "      <th>user_id</th>\n",
       "    </tr>\n",
       "    <tr>\n",
       "      <th>Parent Status</th>\n",
       "      <th>Income Level</th>\n",
       "      <th></th>\n",
       "    </tr>\n",
       "  </thead>\n",
       "  <tbody>\n",
       "    <tr>\n",
       "      <th rowspan=\"3\" valign=\"top\">Middle-aged parent</th>\n",
       "      <th>High income</th>\n",
       "      <td>7319</td>\n",
       "    </tr>\n",
       "    <tr>\n",
       "      <th>Low income</th>\n",
       "      <td>3399</td>\n",
       "    </tr>\n",
       "    <tr>\n",
       "      <th>Middle income</th>\n",
       "      <td>27400</td>\n",
       "    </tr>\n",
       "    <tr>\n",
       "      <th rowspan=\"3\" valign=\"top\">No dependants</th>\n",
       "      <th>High income</th>\n",
       "      <td>10903</td>\n",
       "    </tr>\n",
       "    <tr>\n",
       "      <th>Low income</th>\n",
       "      <td>3314</td>\n",
       "    </tr>\n",
       "    <tr>\n",
       "      <th>Middle income</th>\n",
       "      <td>26510</td>\n",
       "    </tr>\n",
       "    <tr>\n",
       "      <th rowspan=\"3\" valign=\"top\">Older parent</th>\n",
       "      <th>High income</th>\n",
       "      <td>25086</td>\n",
       "    </tr>\n",
       "    <tr>\n",
       "      <th>Low income</th>\n",
       "      <td>4053</td>\n",
       "    </tr>\n",
       "    <tr>\n",
       "      <th>Middle income</th>\n",
       "      <td>31973</td>\n",
       "    </tr>\n",
       "    <tr>\n",
       "      <th rowspan=\"3\" valign=\"top\">Young parent</th>\n",
       "      <th>High income</th>\n",
       "      <td>193</td>\n",
       "    </tr>\n",
       "    <tr>\n",
       "      <th>Low income</th>\n",
       "      <td>2451</td>\n",
       "    </tr>\n",
       "    <tr>\n",
       "      <th>Middle income</th>\n",
       "      <td>20030</td>\n",
       "    </tr>\n",
       "  </tbody>\n",
       "</table>\n",
       "</div>"
      ],
      "text/plain": [
       "                                  user_id\n",
       "Parent Status      Income Level          \n",
       "Middle-aged parent High income       7319\n",
       "                   Low income        3399\n",
       "                   Middle income    27400\n",
       "No dependants      High income      10903\n",
       "                   Low income        3314\n",
       "                   Middle income    26510\n",
       "Older parent       High income      25086\n",
       "                   Low income        4053\n",
       "                   Middle income    31973\n",
       "Young parent       High income        193\n",
       "                   Low income        2451\n",
       "                   Middle income    20030"
      ]
     },
     "execution_count": 44,
     "metadata": {},
     "output_type": "execute_result"
    }
   ],
   "source": [
    "df_parent_income"
   ]
  },
  {
   "cell_type": "code",
   "execution_count": 45,
   "id": "2b267ead",
   "metadata": {},
   "outputs": [],
   "source": [
    "df_region_income = df_profiles.groupby(['region','Income Level']).agg({'user_id':'nunique'})"
   ]
  },
  {
   "cell_type": "code",
   "execution_count": 46,
   "id": "f803e663",
   "metadata": {},
   "outputs": [],
   "source": [
    "region_income_cross = pd.crosstab(df_profiles['Income Level'],df_profiles['region'],dropna = False, normalize = 'columns')"
   ]
  },
  {
   "cell_type": "code",
   "execution_count": 47,
   "id": "5d8dde5d",
   "metadata": {},
   "outputs": [
    {
     "data": {
      "text/html": [
       "<div>\n",
       "<style scoped>\n",
       "    .dataframe tbody tr th:only-of-type {\n",
       "        vertical-align: middle;\n",
       "    }\n",
       "\n",
       "    .dataframe tbody tr th {\n",
       "        vertical-align: top;\n",
       "    }\n",
       "\n",
       "    .dataframe thead th {\n",
       "        text-align: right;\n",
       "    }\n",
       "</style>\n",
       "<table border=\"1\" class=\"dataframe\">\n",
       "  <thead>\n",
       "    <tr style=\"text-align: right;\">\n",
       "      <th>region</th>\n",
       "      <th>Midwest</th>\n",
       "      <th>Northeast</th>\n",
       "      <th>South</th>\n",
       "      <th>West</th>\n",
       "    </tr>\n",
       "    <tr>\n",
       "      <th>Income Level</th>\n",
       "      <th></th>\n",
       "      <th></th>\n",
       "      <th></th>\n",
       "      <th></th>\n",
       "    </tr>\n",
       "  </thead>\n",
       "  <tbody>\n",
       "    <tr>\n",
       "      <th>High income</th>\n",
       "      <td>0.289036</td>\n",
       "      <td>0.287255</td>\n",
       "      <td>0.28226</td>\n",
       "      <td>0.283276</td>\n",
       "    </tr>\n",
       "    <tr>\n",
       "      <th>Low income</th>\n",
       "      <td>0.053732</td>\n",
       "      <td>0.054610</td>\n",
       "      <td>0.05623</td>\n",
       "      <td>0.052622</td>\n",
       "    </tr>\n",
       "    <tr>\n",
       "      <th>Middle income</th>\n",
       "      <td>0.657232</td>\n",
       "      <td>0.658134</td>\n",
       "      <td>0.66151</td>\n",
       "      <td>0.664102</td>\n",
       "    </tr>\n",
       "  </tbody>\n",
       "</table>\n",
       "</div>"
      ],
      "text/plain": [
       "region          Midwest  Northeast    South      West\n",
       "Income Level                                         \n",
       "High income    0.289036   0.287255  0.28226  0.283276\n",
       "Low income     0.053732   0.054610  0.05623  0.052622\n",
       "Middle income  0.657232   0.658134  0.66151  0.664102"
      ]
     },
     "execution_count": 47,
     "metadata": {},
     "output_type": "execute_result"
    }
   ],
   "source": [
    "region_income_cross"
   ]
  },
  {
   "cell_type": "markdown",
   "id": "b3d4bb11",
   "metadata": {},
   "source": [
    "## Question 6.\n",
    "Create an appropriate visualization to show the distribution of profiles."
   ]
  },
  {
   "cell_type": "code",
   "execution_count": 48,
   "id": "cd2393be",
   "metadata": {
    "scrolled": false
   },
   "outputs": [
    {
     "data": {
      "image/png": "[encoded data removed]",
      "text/plain": [
       "<Figure size 432x288 with 1 Axes>"
      ]
     },
     "metadata": {
      "needs_background": "light"
     },
     "output_type": "display_data"
    }
   ],
   "source": [
    "parent_income_plt = df_parent_income.unstack(1).plot(kind = 'bar')"
   ]
  },
  {
   "cell_type": "code",
   "execution_count": 49,
   "id": "ea968fa5",
   "metadata": {},
   "outputs": [
    {
     "data": {
      "image/png": "[encoded data removed]",
      "text/plain": [
       "<Figure size 432x288 with 1 Axes>"
      ]
     },
     "metadata": {
      "needs_background": "light"
     },
     "output_type": "display_data"
    }
   ],
   "source": [
    "region_income_plt = region_income_cross.plot(kind = 'bar')"
   ]
  },
  {
   "cell_type": "markdown",
   "id": "b7728b15",
   "metadata": {},
   "source": [
    "## Question 7.\n",
    "Aggregate the max, mean, and min variables on a customer-profile level for usage frequency and expenditure."
   ]
  },
  {
   "cell_type": "code",
   "execution_count": 50,
   "id": "86b020cb",
   "metadata": {},
   "outputs": [],
   "source": [
    "expenditure = df.groupby('user_id').agg({'prices':['min','mean','max']})"
   ]
  },
  {
   "cell_type": "code",
   "execution_count": 51,
   "id": "e072f8a8",
   "metadata": {},
   "outputs": [],
   "source": [
    "frequency = df.groupby('user_id').agg({'days_since_prior_order':['min','mean','max']})"
   ]
  },
  {
   "cell_type": "code",
   "execution_count": 52,
   "id": "11ced7ef",
   "metadata": {},
   "outputs": [
    {
     "data": {
      "text/html": [
       "<div>\n",
       "<style scoped>\n",
       "    .dataframe tbody tr th:only-of-type {\n",
       "        vertical-align: middle;\n",
       "    }\n",
       "\n",
       "    .dataframe tbody tr th {\n",
       "        vertical-align: top;\n",
       "    }\n",
       "\n",
       "    .dataframe thead tr th {\n",
       "        text-align: left;\n",
       "    }\n",
       "\n",
       "    .dataframe thead tr:last-of-type th {\n",
       "        text-align: right;\n",
       "    }\n",
       "</style>\n",
       "<table border=\"1\" class=\"dataframe\">\n",
       "  <thead>\n",
       "    <tr>\n",
       "      <th></th>\n",
       "      <th colspan=\"3\" halign=\"left\">prices</th>\n",
       "    </tr>\n",
       "    <tr>\n",
       "      <th></th>\n",
       "      <th>min</th>\n",
       "      <th>mean</th>\n",
       "      <th>max</th>\n",
       "    </tr>\n",
       "    <tr>\n",
       "      <th>user_id</th>\n",
       "      <th></th>\n",
       "      <th></th>\n",
       "      <th></th>\n",
       "    </tr>\n",
       "  </thead>\n",
       "  <tbody>\n",
       "    <tr>\n",
       "      <th>1</th>\n",
       "      <td>1.0</td>\n",
       "      <td>6.367797</td>\n",
       "      <td>14.0</td>\n",
       "    </tr>\n",
       "    <tr>\n",
       "      <th>10</th>\n",
       "      <td>1.0</td>\n",
       "      <td>8.651049</td>\n",
       "      <td>24.2</td>\n",
       "    </tr>\n",
       "    <tr>\n",
       "      <th>100</th>\n",
       "      <td>2.3</td>\n",
       "      <td>9.859259</td>\n",
       "      <td>21.6</td>\n",
       "    </tr>\n",
       "    <tr>\n",
       "      <th>1000</th>\n",
       "      <td>1.2</td>\n",
       "      <td>8.407767</td>\n",
       "      <td>15.0</td>\n",
       "    </tr>\n",
       "    <tr>\n",
       "      <th>10000</th>\n",
       "      <td>1.2</td>\n",
       "      <td>8.045421</td>\n",
       "      <td>24.2</td>\n",
       "    </tr>\n",
       "    <tr>\n",
       "      <th>...</th>\n",
       "      <td>...</td>\n",
       "      <td>...</td>\n",
       "      <td>...</td>\n",
       "    </tr>\n",
       "    <tr>\n",
       "      <th>99994</th>\n",
       "      <td>1.1</td>\n",
       "      <td>8.504878</td>\n",
       "      <td>14.3</td>\n",
       "    </tr>\n",
       "    <tr>\n",
       "      <th>99995</th>\n",
       "      <td>1.2</td>\n",
       "      <td>7.958000</td>\n",
       "      <td>21.3</td>\n",
       "    </tr>\n",
       "    <tr>\n",
       "      <th>99996</th>\n",
       "      <td>1.1</td>\n",
       "      <td>7.410938</td>\n",
       "      <td>15.0</td>\n",
       "    </tr>\n",
       "    <tr>\n",
       "      <th>99998</th>\n",
       "      <td>1.8</td>\n",
       "      <td>9.052381</td>\n",
       "      <td>21.1</td>\n",
       "    </tr>\n",
       "    <tr>\n",
       "      <th>99999</th>\n",
       "      <td>1.1</td>\n",
       "      <td>7.289970</td>\n",
       "      <td>24.2</td>\n",
       "    </tr>\n",
       "  </tbody>\n",
       "</table>\n",
       "<p>162631 rows × 3 columns</p>\n",
       "</div>"
      ],
      "text/plain": [
       "        prices                \n",
       "           min      mean   max\n",
       "user_id                       \n",
       "1          1.0  6.367797  14.0\n",
       "10         1.0  8.651049  24.2\n",
       "100        2.3  9.859259  21.6\n",
       "1000       1.2  8.407767  15.0\n",
       "10000      1.2  8.045421  24.2\n",
       "...        ...       ...   ...\n",
       "99994      1.1  8.504878  14.3\n",
       "99995      1.2  7.958000  21.3\n",
       "99996      1.1  7.410938  15.0\n",
       "99998      1.8  9.052381  21.1\n",
       "99999      1.1  7.289970  24.2\n",
       "\n",
       "[162631 rows x 3 columns]"
      ]
     },
     "execution_count": 52,
     "metadata": {},
     "output_type": "execute_result"
    }
   ],
   "source": [
    "expenditure"
   ]
  },
  {
   "cell_type": "code",
   "execution_count": 53,
   "id": "1afe81f7",
   "metadata": {},
   "outputs": [
    {
     "data": {
      "text/html": [
       "<div>\n",
       "<style scoped>\n",
       "    .dataframe tbody tr th:only-of-type {\n",
       "        vertical-align: middle;\n",
       "    }\n",
       "\n",
       "    .dataframe tbody tr th {\n",
       "        vertical-align: top;\n",
       "    }\n",
       "\n",
       "    .dataframe thead tr th {\n",
       "        text-align: left;\n",
       "    }\n",
       "\n",
       "    .dataframe thead tr:last-of-type th {\n",
       "        text-align: right;\n",
       "    }\n",
       "</style>\n",
       "<table border=\"1\" class=\"dataframe\">\n",
       "  <thead>\n",
       "    <tr>\n",
       "      <th></th>\n",
       "      <th colspan=\"3\" halign=\"left\">days_since_prior_order</th>\n",
       "    </tr>\n",
       "    <tr>\n",
       "      <th></th>\n",
       "      <th>min</th>\n",
       "      <th>mean</th>\n",
       "      <th>max</th>\n",
       "    </tr>\n",
       "    <tr>\n",
       "      <th>user_id</th>\n",
       "      <th></th>\n",
       "      <th></th>\n",
       "      <th></th>\n",
       "    </tr>\n",
       "  </thead>\n",
       "  <tbody>\n",
       "    <tr>\n",
       "      <th>1</th>\n",
       "      <td>0.0</td>\n",
       "      <td>18.542373</td>\n",
       "      <td>30.0</td>\n",
       "    </tr>\n",
       "    <tr>\n",
       "      <th>10</th>\n",
       "      <td>0.0</td>\n",
       "      <td>20.020979</td>\n",
       "      <td>30.0</td>\n",
       "    </tr>\n",
       "    <tr>\n",
       "      <th>100</th>\n",
       "      <td>0.0</td>\n",
       "      <td>24.370370</td>\n",
       "      <td>30.0</td>\n",
       "    </tr>\n",
       "    <tr>\n",
       "      <th>1000</th>\n",
       "      <td>0.0</td>\n",
       "      <td>9.951456</td>\n",
       "      <td>30.0</td>\n",
       "    </tr>\n",
       "    <tr>\n",
       "      <th>10000</th>\n",
       "      <td>0.0</td>\n",
       "      <td>4.854396</td>\n",
       "      <td>17.0</td>\n",
       "    </tr>\n",
       "    <tr>\n",
       "      <th>...</th>\n",
       "      <td>...</td>\n",
       "      <td>...</td>\n",
       "      <td>...</td>\n",
       "    </tr>\n",
       "    <tr>\n",
       "      <th>99994</th>\n",
       "      <td>0.0</td>\n",
       "      <td>17.743902</td>\n",
       "      <td>30.0</td>\n",
       "    </tr>\n",
       "    <tr>\n",
       "      <th>99995</th>\n",
       "      <td>0.0</td>\n",
       "      <td>14.800000</td>\n",
       "      <td>30.0</td>\n",
       "    </tr>\n",
       "    <tr>\n",
       "      <th>99996</th>\n",
       "      <td>0.0</td>\n",
       "      <td>19.640625</td>\n",
       "      <td>30.0</td>\n",
       "    </tr>\n",
       "    <tr>\n",
       "      <th>99998</th>\n",
       "      <td>0.0</td>\n",
       "      <td>8.000000</td>\n",
       "      <td>12.0</td>\n",
       "    </tr>\n",
       "    <tr>\n",
       "      <th>99999</th>\n",
       "      <td>0.0</td>\n",
       "      <td>7.382979</td>\n",
       "      <td>24.0</td>\n",
       "    </tr>\n",
       "  </tbody>\n",
       "</table>\n",
       "<p>162631 rows × 3 columns</p>\n",
       "</div>"
      ],
      "text/plain": [
       "        days_since_prior_order                 \n",
       "                           min       mean   max\n",
       "user_id                                        \n",
       "1                          0.0  18.542373  30.0\n",
       "10                         0.0  20.020979  30.0\n",
       "100                        0.0  24.370370  30.0\n",
       "1000                       0.0   9.951456  30.0\n",
       "10000                      0.0   4.854396  17.0\n",
       "...                        ...        ...   ...\n",
       "99994                      0.0  17.743902  30.0\n",
       "99995                      0.0  14.800000  30.0\n",
       "99996                      0.0  19.640625  30.0\n",
       "99998                      0.0   8.000000  12.0\n",
       "99999                      0.0   7.382979  24.0\n",
       "\n",
       "[162631 rows x 3 columns]"
      ]
     },
     "execution_count": 53,
     "metadata": {},
     "output_type": "execute_result"
    }
   ],
   "source": [
    "frequency"
   ]
  },
  {
   "cell_type": "markdown",
   "id": "28aaebdf",
   "metadata": {},
   "source": [
    "## Question 8.\n",
    "Compare your customer profiles with regions and departments. Can you identify a link between them? Customers may demonstrate different behaviors across regions, which could make this information important."
   ]
  },
  {
   "cell_type": "code",
   "execution_count": 54,
   "id": "d7afe8d5",
   "metadata": {},
   "outputs": [],
   "source": [
    "parent_region = pd.crosstab(df_profiles['Parent Status'],\n",
    "                            df_profiles['region'],dropna=False,\n",
    "                            normalize = 'columns')"
   ]
  },
  {
   "cell_type": "code",
   "execution_count": 55,
   "id": "7ff3905a",
   "metadata": {},
   "outputs": [
    {
     "data": {
      "image/png": "[encoded data removed]",
      "text/plain": [
       "<Figure size 432x288 with 1 Axes>"
      ]
     },
     "metadata": {
      "needs_background": "light"
     },
     "output_type": "display_data"
    }
   ],
   "source": [
    "parent_region_plt = parent_region.plot(kind = 'bar', ylabel = '% of region')\n",
    "parent_region_plt.figure.savefig(os.path.join(path,'04 Analysis','Visualizations', 'bar_parent_region.png'),bbox_inches = 'tight')"
   ]
  },
  {
   "cell_type": "code",
   "execution_count": 56,
   "id": "a1a9ee1b",
   "metadata": {},
   "outputs": [
    {
     "data": {
      "image/png": "[encoded data removed]",
      "text/plain": [
       "<Figure size 432x288 with 1 Axes>"
      ]
     },
     "metadata": {},
     "output_type": "display_data"
    }
   ],
   "source": [
    "pie = df_profiles['Parent Status'].value_counts()\n",
    "plt.title('Percent Distribution of Parental Types')\n",
    "plt.pie(pie,labels = df_profiles['Parent Status'].value_counts().index,\n",
    "       autopct='%1.1f%%')\n",
    "plt.savefig(os.path.join(path,'04 Analysis','Visualizations','pie_parent_dist.png'),bbox_inches = 'tight')"
   ]
  },
  {
   "cell_type": "code",
   "execution_count": 57,
   "id": "3cde926a",
   "metadata": {},
   "outputs": [],
   "source": [
    "df_old = df_profiles[df_profiles['Parent Status']=='Older parent']"
   ]
  },
  {
   "cell_type": "code",
   "execution_count": 58,
   "id": "21f154c4",
   "metadata": {},
   "outputs": [
    {
     "data": {
      "text/html": [
       "<div>\n",
       "<style scoped>\n",
       "    .dataframe tbody tr th:only-of-type {\n",
       "        vertical-align: middle;\n",
       "    }\n",
       "\n",
       "    .dataframe tbody tr th {\n",
       "        vertical-align: top;\n",
       "    }\n",
       "\n",
       "    .dataframe thead th {\n",
       "        text-align: right;\n",
       "    }\n",
       "</style>\n",
       "<table border=\"1\" class=\"dataframe\">\n",
       "  <thead>\n",
       "    <tr style=\"text-align: right;\">\n",
       "      <th></th>\n",
       "      <th>user_id</th>\n",
       "      <th>Parent Status</th>\n",
       "      <th>region</th>\n",
       "      <th>Income Level</th>\n",
       "      <th>prices</th>\n",
       "      <th>department_id</th>\n",
       "    </tr>\n",
       "  </thead>\n",
       "  <tbody>\n",
       "    <tr>\n",
       "      <th>15</th>\n",
       "      <td>19</td>\n",
       "      <td>Older parent</td>\n",
       "      <td>South</td>\n",
       "      <td>High income</td>\n",
       "      <td>9.0</td>\n",
       "      <td>7</td>\n",
       "    </tr>\n",
       "    <tr>\n",
       "      <th>16</th>\n",
       "      <td>19</td>\n",
       "      <td>Older parent</td>\n",
       "      <td>South</td>\n",
       "      <td>High income</td>\n",
       "      <td>9.0</td>\n",
       "      <td>7</td>\n",
       "    </tr>\n",
       "    <tr>\n",
       "      <th>17</th>\n",
       "      <td>19</td>\n",
       "      <td>Older parent</td>\n",
       "      <td>South</td>\n",
       "      <td>High income</td>\n",
       "      <td>9.0</td>\n",
       "      <td>7</td>\n",
       "    </tr>\n",
       "    <tr>\n",
       "      <th>23</th>\n",
       "      <td>52</td>\n",
       "      <td>Older parent</td>\n",
       "      <td>South</td>\n",
       "      <td>Middle income</td>\n",
       "      <td>9.0</td>\n",
       "      <td>7</td>\n",
       "    </tr>\n",
       "    <tr>\n",
       "      <th>24</th>\n",
       "      <td>52</td>\n",
       "      <td>Older parent</td>\n",
       "      <td>South</td>\n",
       "      <td>Middle income</td>\n",
       "      <td>9.0</td>\n",
       "      <td>7</td>\n",
       "    </tr>\n",
       "    <tr>\n",
       "      <th>...</th>\n",
       "      <td>...</td>\n",
       "      <td>...</td>\n",
       "      <td>...</td>\n",
       "      <td>...</td>\n",
       "      <td>...</td>\n",
       "      <td>...</td>\n",
       "    </tr>\n",
       "    <tr>\n",
       "      <th>32404837</th>\n",
       "      <td>198107</td>\n",
       "      <td>Older parent</td>\n",
       "      <td>West</td>\n",
       "      <td>High income</td>\n",
       "      <td>2.6</td>\n",
       "      <td>5</td>\n",
       "    </tr>\n",
       "    <tr>\n",
       "      <th>32404838</th>\n",
       "      <td>198107</td>\n",
       "      <td>Older parent</td>\n",
       "      <td>West</td>\n",
       "      <td>High income</td>\n",
       "      <td>2.6</td>\n",
       "      <td>5</td>\n",
       "    </tr>\n",
       "    <tr>\n",
       "      <th>32404840</th>\n",
       "      <td>205587</td>\n",
       "      <td>Older parent</td>\n",
       "      <td>West</td>\n",
       "      <td>Middle income</td>\n",
       "      <td>7.0</td>\n",
       "      <td>11</td>\n",
       "    </tr>\n",
       "    <tr>\n",
       "      <th>32404842</th>\n",
       "      <td>203389</td>\n",
       "      <td>Older parent</td>\n",
       "      <td>South</td>\n",
       "      <td>High income</td>\n",
       "      <td>8.8</td>\n",
       "      <td>17</td>\n",
       "    </tr>\n",
       "    <tr>\n",
       "      <th>32404858</th>\n",
       "      <td>205420</td>\n",
       "      <td>Older parent</td>\n",
       "      <td>South</td>\n",
       "      <td>High income</td>\n",
       "      <td>10.3</td>\n",
       "      <td>14</td>\n",
       "    </tr>\n",
       "  </tbody>\n",
       "</table>\n",
       "<p>11550903 rows × 6 columns</p>\n",
       "</div>"
      ],
      "text/plain": [
       "         user_id Parent Status region   Income Level  prices  department_id\n",
       "15            19  Older parent  South    High income     9.0              7\n",
       "16            19  Older parent  South    High income     9.0              7\n",
       "17            19  Older parent  South    High income     9.0              7\n",
       "23            52  Older parent  South  Middle income     9.0              7\n",
       "24            52  Older parent  South  Middle income     9.0              7\n",
       "...          ...           ...    ...            ...     ...            ...\n",
       "32404837  198107  Older parent   West    High income     2.6              5\n",
       "32404838  198107  Older parent   West    High income     2.6              5\n",
       "32404840  205587  Older parent   West  Middle income     7.0             11\n",
       "32404842  203389  Older parent  South    High income     8.8             17\n",
       "32404858  205420  Older parent  South    High income    10.3             14\n",
       "\n",
       "[11550903 rows x 6 columns]"
      ]
     },
     "execution_count": 58,
     "metadata": {},
     "output_type": "execute_result"
    }
   ],
   "source": [
    "df_old"
   ]
  },
  {
   "cell_type": "code",
   "execution_count": 59,
   "id": "39098f7f",
   "metadata": {},
   "outputs": [
    {
     "data": {
      "text/html": [
       "<div>\n",
       "<style scoped>\n",
       "    .dataframe tbody tr th:only-of-type {\n",
       "        vertical-align: middle;\n",
       "    }\n",
       "\n",
       "    .dataframe tbody tr th {\n",
       "        vertical-align: top;\n",
       "    }\n",
       "\n",
       "    .dataframe thead th {\n",
       "        text-align: right;\n",
       "    }\n",
       "</style>\n",
       "<table border=\"1\" class=\"dataframe\">\n",
       "  <thead>\n",
       "    <tr style=\"text-align: right;\">\n",
       "      <th></th>\n",
       "      <th>department</th>\n",
       "    </tr>\n",
       "  </thead>\n",
       "  <tbody>\n",
       "    <tr>\n",
       "      <th>0</th>\n",
       "      <td>frozen</td>\n",
       "    </tr>\n",
       "    <tr>\n",
       "      <th>1</th>\n",
       "      <td>other</td>\n",
       "    </tr>\n",
       "    <tr>\n",
       "      <th>2</th>\n",
       "      <td>bakery</td>\n",
       "    </tr>\n",
       "    <tr>\n",
       "      <th>3</th>\n",
       "      <td>produce</td>\n",
       "    </tr>\n",
       "    <tr>\n",
       "      <th>4</th>\n",
       "      <td>alcohol</td>\n",
       "    </tr>\n",
       "    <tr>\n",
       "      <th>5</th>\n",
       "      <td>international</td>\n",
       "    </tr>\n",
       "    <tr>\n",
       "      <th>6</th>\n",
       "      <td>beverages</td>\n",
       "    </tr>\n",
       "    <tr>\n",
       "      <th>7</th>\n",
       "      <td>pets</td>\n",
       "    </tr>\n",
       "    <tr>\n",
       "      <th>8</th>\n",
       "      <td>dry goods pasta</td>\n",
       "    </tr>\n",
       "    <tr>\n",
       "      <th>9</th>\n",
       "      <td>bulk</td>\n",
       "    </tr>\n",
       "    <tr>\n",
       "      <th>10</th>\n",
       "      <td>personal care</td>\n",
       "    </tr>\n",
       "    <tr>\n",
       "      <th>11</th>\n",
       "      <td>meat seafood</td>\n",
       "    </tr>\n",
       "    <tr>\n",
       "      <th>12</th>\n",
       "      <td>pantry</td>\n",
       "    </tr>\n",
       "    <tr>\n",
       "      <th>13</th>\n",
       "      <td>breakfast</td>\n",
       "    </tr>\n",
       "    <tr>\n",
       "      <th>14</th>\n",
       "      <td>canned goods</td>\n",
       "    </tr>\n",
       "    <tr>\n",
       "      <th>15</th>\n",
       "      <td>dairy eggs</td>\n",
       "    </tr>\n",
       "    <tr>\n",
       "      <th>16</th>\n",
       "      <td>household</td>\n",
       "    </tr>\n",
       "    <tr>\n",
       "      <th>17</th>\n",
       "      <td>babies</td>\n",
       "    </tr>\n",
       "    <tr>\n",
       "      <th>18</th>\n",
       "      <td>snacks</td>\n",
       "    </tr>\n",
       "    <tr>\n",
       "      <th>19</th>\n",
       "      <td>deli</td>\n",
       "    </tr>\n",
       "    <tr>\n",
       "      <th>20</th>\n",
       "      <td>missing</td>\n",
       "    </tr>\n",
       "  </tbody>\n",
       "</table>\n",
       "</div>"
      ],
      "text/plain": [
       "         department\n",
       "0            frozen\n",
       "1             other\n",
       "2            bakery\n",
       "3           produce\n",
       "4           alcohol\n",
       "5     international\n",
       "6         beverages\n",
       "7              pets\n",
       "8   dry goods pasta\n",
       "9              bulk\n",
       "10    personal care\n",
       "11     meat seafood\n",
       "12           pantry\n",
       "13        breakfast\n",
       "14     canned goods\n",
       "15       dairy eggs\n",
       "16        household\n",
       "17           babies\n",
       "18           snacks\n",
       "19             deli\n",
       "20          missing"
      ]
     },
     "execution_count": 59,
     "metadata": {},
     "output_type": "execute_result"
    }
   ],
   "source": [
    "departments = pd.read_csv(os.path.join(path,'02 Data','Prepared Data','departments_wrangled.csv'))\n",
    "departments"
   ]
  },
  {
   "cell_type": "code",
   "execution_count": 60,
   "id": "338e3ad6",
   "metadata": {},
   "outputs": [
    {
     "data": {
      "text/plain": [
       "{'department': {0: 'frozen',\n",
       "  1: 'other',\n",
       "  2: 'bakery',\n",
       "  3: 'produce',\n",
       "  4: 'alcohol',\n",
       "  5: 'international',\n",
       "  6: 'beverages',\n",
       "  7: 'pets',\n",
       "  8: 'dry goods pasta',\n",
       "  9: 'bulk',\n",
       "  10: 'personal care',\n",
       "  11: 'meat seafood',\n",
       "  12: 'pantry',\n",
       "  13: 'breakfast',\n",
       "  14: 'canned goods',\n",
       "  15: 'dairy eggs',\n",
       "  16: 'household',\n",
       "  17: 'babies',\n",
       "  18: 'snacks',\n",
       "  19: 'deli',\n",
       "  20: 'missing'}}"
      ]
     },
     "execution_count": 60,
     "metadata": {},
     "output_type": "execute_result"
    }
   ],
   "source": [
    "data_dict = departments.to_dict()\n",
    "data_dict"
   ]
  },
  {
   "cell_type": "code",
   "execution_count": 61,
   "id": "78e6d90d",
   "metadata": {},
   "outputs": [
    {
     "name": "stderr",
     "output_type": "stream",
     "text": [
      "<ipython-input-61-dfcf1c40af5d>:1: SettingWithCopyWarning: \n",
      "A value is trying to be set on a copy of a slice from a DataFrame.\n",
      "Try using .loc[row_indexer,col_indexer] = value instead\n",
      "\n",
      "See the caveats in the documentation: https://pandas.pydata.org/pandas-docs/stable/user_guide/indexing.html#returning-a-view-versus-a-copy\n",
      "  df_old['department'] = (df_old['department_id']-1).map(data_dict['department'])\n"
     ]
    }
   ],
   "source": [
    "df_old['department'] = (df_old['department_id']-1).map(data_dict['department'])"
   ]
  },
  {
   "cell_type": "code",
   "execution_count": 62,
   "id": "092b76a8",
   "metadata": {},
   "outputs": [
    {
     "data": {
      "text/html": [
       "<div>\n",
       "<style scoped>\n",
       "    .dataframe tbody tr th:only-of-type {\n",
       "        vertical-align: middle;\n",
       "    }\n",
       "\n",
       "    .dataframe tbody tr th {\n",
       "        vertical-align: top;\n",
       "    }\n",
       "\n",
       "    .dataframe thead th {\n",
       "        text-align: right;\n",
       "    }\n",
       "</style>\n",
       "<table border=\"1\" class=\"dataframe\">\n",
       "  <thead>\n",
       "    <tr style=\"text-align: right;\">\n",
       "      <th></th>\n",
       "      <th>user_id</th>\n",
       "      <th>Parent Status</th>\n",
       "      <th>region</th>\n",
       "      <th>Income Level</th>\n",
       "      <th>prices</th>\n",
       "      <th>department_id</th>\n",
       "      <th>department</th>\n",
       "    </tr>\n",
       "  </thead>\n",
       "  <tbody>\n",
       "    <tr>\n",
       "      <th>15</th>\n",
       "      <td>19</td>\n",
       "      <td>Older parent</td>\n",
       "      <td>South</td>\n",
       "      <td>High income</td>\n",
       "      <td>9.0</td>\n",
       "      <td>7</td>\n",
       "      <td>beverages</td>\n",
       "    </tr>\n",
       "    <tr>\n",
       "      <th>16</th>\n",
       "      <td>19</td>\n",
       "      <td>Older parent</td>\n",
       "      <td>South</td>\n",
       "      <td>High income</td>\n",
       "      <td>9.0</td>\n",
       "      <td>7</td>\n",
       "      <td>beverages</td>\n",
       "    </tr>\n",
       "    <tr>\n",
       "      <th>17</th>\n",
       "      <td>19</td>\n",
       "      <td>Older parent</td>\n",
       "      <td>South</td>\n",
       "      <td>High income</td>\n",
       "      <td>9.0</td>\n",
       "      <td>7</td>\n",
       "      <td>beverages</td>\n",
       "    </tr>\n",
       "    <tr>\n",
       "      <th>23</th>\n",
       "      <td>52</td>\n",
       "      <td>Older parent</td>\n",
       "      <td>South</td>\n",
       "      <td>Middle income</td>\n",
       "      <td>9.0</td>\n",
       "      <td>7</td>\n",
       "      <td>beverages</td>\n",
       "    </tr>\n",
       "    <tr>\n",
       "      <th>24</th>\n",
       "      <td>52</td>\n",
       "      <td>Older parent</td>\n",
       "      <td>South</td>\n",
       "      <td>Middle income</td>\n",
       "      <td>9.0</td>\n",
       "      <td>7</td>\n",
       "      <td>beverages</td>\n",
       "    </tr>\n",
       "    <tr>\n",
       "      <th>...</th>\n",
       "      <td>...</td>\n",
       "      <td>...</td>\n",
       "      <td>...</td>\n",
       "      <td>...</td>\n",
       "      <td>...</td>\n",
       "      <td>...</td>\n",
       "      <td>...</td>\n",
       "    </tr>\n",
       "    <tr>\n",
       "      <th>32404837</th>\n",
       "      <td>198107</td>\n",
       "      <td>Older parent</td>\n",
       "      <td>West</td>\n",
       "      <td>High income</td>\n",
       "      <td>2.6</td>\n",
       "      <td>5</td>\n",
       "      <td>alcohol</td>\n",
       "    </tr>\n",
       "    <tr>\n",
       "      <th>32404838</th>\n",
       "      <td>198107</td>\n",
       "      <td>Older parent</td>\n",
       "      <td>West</td>\n",
       "      <td>High income</td>\n",
       "      <td>2.6</td>\n",
       "      <td>5</td>\n",
       "      <td>alcohol</td>\n",
       "    </tr>\n",
       "    <tr>\n",
       "      <th>32404840</th>\n",
       "      <td>205587</td>\n",
       "      <td>Older parent</td>\n",
       "      <td>West</td>\n",
       "      <td>Middle income</td>\n",
       "      <td>7.0</td>\n",
       "      <td>11</td>\n",
       "      <td>personal care</td>\n",
       "    </tr>\n",
       "    <tr>\n",
       "      <th>32404842</th>\n",
       "      <td>203389</td>\n",
       "      <td>Older parent</td>\n",
       "      <td>South</td>\n",
       "      <td>High income</td>\n",
       "      <td>8.8</td>\n",
       "      <td>17</td>\n",
       "      <td>household</td>\n",
       "    </tr>\n",
       "    <tr>\n",
       "      <th>32404858</th>\n",
       "      <td>205420</td>\n",
       "      <td>Older parent</td>\n",
       "      <td>South</td>\n",
       "      <td>High income</td>\n",
       "      <td>10.3</td>\n",
       "      <td>14</td>\n",
       "      <td>breakfast</td>\n",
       "    </tr>\n",
       "  </tbody>\n",
       "</table>\n",
       "<p>11550903 rows × 7 columns</p>\n",
       "</div>"
      ],
      "text/plain": [
       "         user_id Parent Status region   Income Level  prices  department_id  \\\n",
       "15            19  Older parent  South    High income     9.0              7   \n",
       "16            19  Older parent  South    High income     9.0              7   \n",
       "17            19  Older parent  South    High income     9.0              7   \n",
       "23            52  Older parent  South  Middle income     9.0              7   \n",
       "24            52  Older parent  South  Middle income     9.0              7   \n",
       "...          ...           ...    ...            ...     ...            ...   \n",
       "32404837  198107  Older parent   West    High income     2.6              5   \n",
       "32404838  198107  Older parent   West    High income     2.6              5   \n",
       "32404840  205587  Older parent   West  Middle income     7.0             11   \n",
       "32404842  203389  Older parent  South    High income     8.8             17   \n",
       "32404858  205420  Older parent  South    High income    10.3             14   \n",
       "\n",
       "             department  \n",
       "15            beverages  \n",
       "16            beverages  \n",
       "17            beverages  \n",
       "23            beverages  \n",
       "24            beverages  \n",
       "...                 ...  \n",
       "32404837        alcohol  \n",
       "32404838        alcohol  \n",
       "32404840  personal care  \n",
       "32404842      household  \n",
       "32404858      breakfast  \n",
       "\n",
       "[11550903 rows x 7 columns]"
      ]
     },
     "execution_count": 62,
     "metadata": {},
     "output_type": "execute_result"
    }
   ],
   "source": [
    "df_old"
   ]
  },
  {
   "cell_type": "code",
   "execution_count": 63,
   "id": "092f8f69",
   "metadata": {},
   "outputs": [
    {
     "data": {
      "image/png": "[encoded data removed]",
      "text/plain": [
       "<Figure size 432x288 with 1 Axes>"
      ]
     },
     "metadata": {
      "needs_background": "light"
     },
     "output_type": "display_data"
    }
   ],
   "source": [
    "squarify.plot(sizes = df_old['department'].value_counts(),\n",
    "             label = df_old['department'].value_counts().index,\n",
    "             alpha = 0.8, text_kwargs={'fontsize':7})\n",
    "plt.title('Department purchases in Older Parent Demographic')\n",
    "plt.savefig(os.path.join(path,'04 Analysis','Visualizations','treemap_dept.png'),bbox_inches = 'tight')"
   ]
  },
  {
   "cell_type": "markdown",
   "id": "d65db94d",
   "metadata": {},
   "source": [
    "## Question 9.\n",
    "Produce suitable charts to illustrate your results and export them in your project folder."
   ]
  },
  {
   "cell_type": "code",
   "execution_count": 64,
   "id": "e8cc10f1",
   "metadata": {},
   "outputs": [],
   "source": [
    "parent_income_plt.figure.savefig(os.path.join(path, '04 Analysis','Visualizations', 'bar_parent_income.png'),bbox_inches = 'tight')"
   ]
  },
  {
   "cell_type": "code",
   "execution_count": 65,
   "id": "9e424559",
   "metadata": {},
   "outputs": [],
   "source": [
    "region_income_plt.figure.savefig(os.path.join(path, '04 Analysis','Visualizations', 'bar_region_income.png'),bbox_inches = 'tight')"
   ]
  },
  {
   "cell_type": "code",
   "execution_count": 66,
   "id": "d2910b92",
   "metadata": {},
   "outputs": [],
   "source": [
    "# parent_region_plt.figure.savefig(os.path.join(path, '04 Analysis','Visualizations', 'bar_parent_region.png'))"
   ]
  },
  {
   "cell_type": "code",
   "execution_count": 67,
   "id": "e185988b",
   "metadata": {},
   "outputs": [],
   "source": [
    "df.to_pickle(os.path.join(path, '02 Data','Prepared Data','final_dataset.pkl'))"
   ]
  },
  {
   "cell_type": "code",
   "execution_count": 68,
   "id": "de1db5a3",
   "metadata": {},
   "outputs": [],
   "source": [
    "reg_cross.to_clipboard()"
   ]
  },
  {
   "cell_type": "code",
   "execution_count": 69,
   "id": "5dbab109",
   "metadata": {},
   "outputs": [],
   "source": [
    "parent_region.to_clipboard()"
   ]
  },
  {
   "cell_type": "code",
   "execution_count": null,
   "id": "7a45a34c",
   "metadata": {},
   "outputs": [],
   "source": []
  }
 ],
 "metadata": {
  "kernelspec": {
   "display_name": "Python 3",
   "language": "python",
   "name": "python3"
  },
  "language_info": {
   "codemirror_mode": {
    "name": "ipython",
    "version": 3
   },
   "file_extension": ".py",
   "mimetype": "text/x-python",
   "name": "python",
   "nbconvert_exporter": "python",
   "pygments_lexer": "ipython3",
   "version": "3.8.8"
  }
 },
 "nbformat": 4,
 "nbformat_minor": 5
}
